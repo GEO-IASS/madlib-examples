{
 "cells": [
  {
   "cell_type": "markdown",
   "metadata": {},
   "source": [
    "# Pivot\n",
    "\n",
    "The goal of the MADlib pivot function is to provide a data summarization tool that can do basic OLAP type operations on data stored in one table and output the summarized data to a second table."
   ]
  },
  {
   "cell_type": "code",
   "execution_count": null,
   "metadata": {
    "collapsed": false
   },
   "outputs": [],
   "source": [
    "%load_ext sql"
   ]
  },
  {
   "cell_type": "code",
   "execution_count": null,
   "metadata": {
    "collapsed": false
   },
   "outputs": [],
   "source": [
    "# %sql postgresql://gpdbchina@10.194.10.68:55000/madlib\n",
    "%sql postgresql://fmcquillan@localhost:5432/madlib"
   ]
  },
  {
   "cell_type": "code",
   "execution_count": 36,
   "metadata": {
    "collapsed": false
   },
   "outputs": [
    {
     "name": "stdout",
     "output_type": "stream",
     "text": [
      "1 rows affected.\n"
     ]
    },
    {
     "data": {
      "text/html": [
       "<table>\n",
       "    <tr>\n",
       "        <th>version</th>\n",
       "    </tr>\n",
       "    <tr>\n",
       "        <td>MADlib version: 1.9.1, git revision: rc/v1.9-rc1-39-g1929aed, cmake configuration time: Tue Aug 30 00:17:02 UTC 2016, build type: RelWithDebInfo, build system: Darwin-14.5.0, C compiler: Clang, C++ compiler: Clang</td>\n",
       "    </tr>\n",
       "</table>"
      ],
      "text/plain": [
       "[(u'MADlib version: 1.9.1, git revision: rc/v1.9-rc1-39-g1929aed, cmake configuration time: Tue Aug 30 00:17:02 UTC 2016, build type: RelWithDebInfo, build system: Darwin-14.5.0, C compiler: Clang, C++ compiler: Clang',)]"
      ]
     },
     "execution_count": 36,
     "metadata": {},
     "output_type": "execute_result"
    }
   ],
   "source": [
    "%sql select madlib.version();"
   ]
  },
  {
   "cell_type": "markdown",
   "metadata": {
    "collapsed": true
   },
   "source": [
    "Create a simple dataset to demonstrate a basic pivot:"
   ]
  },
  {
   "cell_type": "code",
   "execution_count": 37,
   "metadata": {
    "collapsed": false
   },
   "outputs": [
    {
     "name": "stdout",
     "output_type": "stream",
     "text": [
      "Done.\n",
      "Done.\n",
      "10 rows affected.\n",
      "10 rows affected.\n"
     ]
    },
    {
     "data": {
      "text/html": [
       "<table>\n",
       "    <tr>\n",
       "        <th>id</th>\n",
       "        <th>piv</th>\n",
       "        <th>val</th>\n",
       "    </tr>\n",
       "    <tr>\n",
       "        <td>0</td>\n",
       "        <td>20</td>\n",
       "        <td>3.0</td>\n",
       "    </tr>\n",
       "    <tr>\n",
       "        <td>0</td>\n",
       "        <td>10</td>\n",
       "        <td>1.0</td>\n",
       "    </tr>\n",
       "    <tr>\n",
       "        <td>0</td>\n",
       "        <td>10</td>\n",
       "        <td>2.0</td>\n",
       "    </tr>\n",
       "    <tr>\n",
       "        <td>1</td>\n",
       "        <td>30</td>\n",
       "        <td>6.0</td>\n",
       "    </tr>\n",
       "    <tr>\n",
       "        <td>1</td>\n",
       "        <td>10</td>\n",
       "        <td>7.0</td>\n",
       "    </tr>\n",
       "    <tr>\n",
       "        <td>1</td>\n",
       "        <td>None</td>\n",
       "        <td>9.0</td>\n",
       "    </tr>\n",
       "    <tr>\n",
       "        <td>1</td>\n",
       "        <td>10</td>\n",
       "        <td>None</td>\n",
       "    </tr>\n",
       "    <tr>\n",
       "        <td>1</td>\n",
       "        <td>20</td>\n",
       "        <td>4.0</td>\n",
       "    </tr>\n",
       "    <tr>\n",
       "        <td>1</td>\n",
       "        <td>30</td>\n",
       "        <td>5.0</td>\n",
       "    </tr>\n",
       "    <tr>\n",
       "        <td>None</td>\n",
       "        <td>10</td>\n",
       "        <td>8.0</td>\n",
       "    </tr>\n",
       "</table>"
      ],
      "text/plain": [
       "[(0, 20, 3.0),\n",
       " (0, 10, 1.0),\n",
       " (0, 10, 2.0),\n",
       " (1, 30, 6.0),\n",
       " (1, 10, 7.0),\n",
       " (1, None, 9.0),\n",
       " (1, 10, None),\n",
       " (1, 20, 4.0),\n",
       " (1, 30, 5.0),\n",
       " (None, 10, 8.0)]"
      ]
     },
     "execution_count": 37,
     "metadata": {},
     "output_type": "execute_result"
    }
   ],
   "source": [
    "%%sql \n",
    "DROP TABLE IF EXISTS pivset CASCADE;\n",
    "CREATE TABLE pivset(\n",
    "                  id INTEGER,\n",
    "                  piv INTEGER,\n",
    "                  val FLOAT8\n",
    "                );\n",
    "INSERT INTO pivset VALUES\n",
    "    (0, 10, 1),\n",
    "    (0, 10, 2),\n",
    "    (0, 20, 3),\n",
    "    (1, 20, 4),\n",
    "    (1, 30, 5),\n",
    "    (1, 30, 6),\n",
    "    (1, 10, 7),\n",
    "    (NULL, 10, 8),\n",
    "    (1, NULL, 9),\n",
    "    (1, 10, NULL);\n",
    "\n",
    "SELECT * FROM pivset ORDER BY id;"
   ]
  },
  {
   "cell_type": "code",
   "execution_count": 38,
   "metadata": {
    "collapsed": false
   },
   "outputs": [
    {
     "name": "stdout",
     "output_type": "stream",
     "text": [
      "Done.\n",
      "1 rows affected.\n",
      "3 rows affected.\n"
     ]
    },
    {
     "data": {
      "text/html": [
       "<table>\n",
       "    <tr>\n",
       "        <th>id</th>\n",
       "        <th>val_avg_piv_10</th>\n",
       "        <th>val_avg_piv_20</th>\n",
       "        <th>val_avg_piv_30</th>\n",
       "    </tr>\n",
       "    <tr>\n",
       "        <td>0</td>\n",
       "        <td>1.5</td>\n",
       "        <td>3.0</td>\n",
       "        <td>None</td>\n",
       "    </tr>\n",
       "    <tr>\n",
       "        <td>1</td>\n",
       "        <td>7.0</td>\n",
       "        <td>4.0</td>\n",
       "        <td>5.5</td>\n",
       "    </tr>\n",
       "    <tr>\n",
       "        <td>None</td>\n",
       "        <td>8.0</td>\n",
       "        <td>None</td>\n",
       "        <td>None</td>\n",
       "    </tr>\n",
       "</table>"
      ],
      "text/plain": [
       "[(0, 1.5, 3.0, None), (1, 7.0, 4.0, 5.5), (None, 8.0, None, None)]"
      ]
     },
     "execution_count": 38,
     "metadata": {},
     "output_type": "execute_result"
    }
   ],
   "source": [
    "%%sql\n",
    "DROP TABLE IF EXISTS pivout;\n",
    "SELECT madlib.pivot('pivset',     -- source data\n",
    "                    'pivout',     -- output data\n",
    "                    'id',         -- index (rows in the output table)\n",
    "                    'piv',        -- pivot columns\n",
    "                    'val');       -- values to be summarized in the output table\n",
    "SELECT * FROM pivout ORDER BY id;"
   ]
  },
  {
   "cell_type": "markdown",
   "metadata": {},
   "source": [
    "Now let's add some more columns to our data set and create a view:"
   ]
  },
  {
   "cell_type": "code",
   "execution_count": 39,
   "metadata": {
    "collapsed": false
   },
   "outputs": [
    {
     "name": "stdout",
     "output_type": "stream",
     "text": [
      "Done.\n",
      "Done.\n",
      "10 rows affected.\n"
     ]
    },
    {
     "data": {
      "text/html": [
       "<table>\n",
       "    <tr>\n",
       "        <th>id</th>\n",
       "        <th>id2</th>\n",
       "        <th>piv</th>\n",
       "        <th>piv2</th>\n",
       "        <th>val</th>\n",
       "        <th>val2</th>\n",
       "    </tr>\n",
       "    <tr>\n",
       "        <td>0</td>\n",
       "        <td>0</td>\n",
       "        <td>10</td>\n",
       "        <td>0</td>\n",
       "        <td>1.0</td>\n",
       "        <td>11.0</td>\n",
       "    </tr>\n",
       "    <tr>\n",
       "        <td>0</td>\n",
       "        <td>1</td>\n",
       "        <td>10</td>\n",
       "        <td>100</td>\n",
       "        <td>2.0</td>\n",
       "        <td>12.0</td>\n",
       "    </tr>\n",
       "    <tr>\n",
       "        <td>0</td>\n",
       "        <td>1</td>\n",
       "        <td>20</td>\n",
       "        <td>100</td>\n",
       "        <td>3.0</td>\n",
       "        <td>13.0</td>\n",
       "    </tr>\n",
       "    <tr>\n",
       "        <td>1</td>\n",
       "        <td>0</td>\n",
       "        <td>10</td>\n",
       "        <td>0</td>\n",
       "        <td>None</td>\n",
       "        <td>0.0</td>\n",
       "    </tr>\n",
       "    <tr>\n",
       "        <td>1</td>\n",
       "        <td>2</td>\n",
       "        <td>20</td>\n",
       "        <td>100</td>\n",
       "        <td>4.0</td>\n",
       "        <td>14.0</td>\n",
       "    </tr>\n",
       "    <tr>\n",
       "        <td>1</td>\n",
       "        <td>3</td>\n",
       "        <td>10</td>\n",
       "        <td>200</td>\n",
       "        <td>7.0</td>\n",
       "        <td>17.0</td>\n",
       "    </tr>\n",
       "    <tr>\n",
       "        <td>1</td>\n",
       "        <td>3</td>\n",
       "        <td>30</td>\n",
       "        <td>200</td>\n",
       "        <td>5.0</td>\n",
       "        <td>15.0</td>\n",
       "    </tr>\n",
       "    <tr>\n",
       "        <td>1</td>\n",
       "        <td>3</td>\n",
       "        <td>30</td>\n",
       "        <td>200</td>\n",
       "        <td>6.0</td>\n",
       "        <td>16.0</td>\n",
       "    </tr>\n",
       "    <tr>\n",
       "        <td>1</td>\n",
       "        <td>4</td>\n",
       "        <td>None</td>\n",
       "        <td>300</td>\n",
       "        <td>9.0</td>\n",
       "        <td>19.0</td>\n",
       "    </tr>\n",
       "    <tr>\n",
       "        <td>None</td>\n",
       "        <td>0</td>\n",
       "        <td>10</td>\n",
       "        <td>300</td>\n",
       "        <td>8.0</td>\n",
       "        <td>18.0</td>\n",
       "    </tr>\n",
       "</table>"
      ],
      "text/plain": [
       "[(0, 0, 10, 0, 1.0, 11.0),\n",
       " (0, 1, 10, 100, 2.0, 12.0),\n",
       " (0, 1, 20, 100, 3.0, 13.0),\n",
       " (1, 0, 10, 0, None, 0.0),\n",
       " (1, 2, 20, 100, 4.0, 14.0),\n",
       " (1, 3, 10, 200, 7.0, 17.0),\n",
       " (1, 3, 30, 200, 5.0, 15.0),\n",
       " (1, 3, 30, 200, 6.0, 16.0),\n",
       " (1, 4, None, 300, 9.0, 19.0),\n",
       " (None, 0, 10, 300, 8.0, 18.0)]"
      ]
     },
     "execution_count": 39,
     "metadata": {},
     "output_type": "execute_result"
    }
   ],
   "source": [
    "%%sql\n",
    "DROP VIEW IF EXISTS pivset_ext;\n",
    "CREATE VIEW pivset_ext AS\n",
    "    SELECT *,\n",
    "    COALESCE(id + (val / 3)::integer, 0) AS id2,\n",
    "    COALESCE(100*(val / 3)::integer, 0) AS piv2,\n",
    "    COALESCE(val + 10, 0) AS val2\n",
    "   FROM pivset;\n",
    "SELECT id,id2,piv,piv2,val,val2 FROM pivset_ext\n",
    "ORDER BY id,id2,piv,piv2,val,val2;"
   ]
  },
  {
   "cell_type": "markdown",
   "metadata": {},
   "source": [
    "Let's use a different aggregate function on the view we just created:"
   ]
  },
  {
   "cell_type": "code",
   "execution_count": 40,
   "metadata": {
    "collapsed": false
   },
   "outputs": [
    {
     "name": "stdout",
     "output_type": "stream",
     "text": [
      "Done.\n",
      "1 rows affected.\n",
      "3 rows affected.\n"
     ]
    },
    {
     "data": {
      "text/html": [
       "<table>\n",
       "    <tr>\n",
       "        <th>id</th>\n",
       "        <th>val_sum_piv_10</th>\n",
       "        <th>val_sum_piv_20</th>\n",
       "        <th>val_sum_piv_30</th>\n",
       "    </tr>\n",
       "    <tr>\n",
       "        <td>0</td>\n",
       "        <td>3.0</td>\n",
       "        <td>3.0</td>\n",
       "        <td>None</td>\n",
       "    </tr>\n",
       "    <tr>\n",
       "        <td>1</td>\n",
       "        <td>7.0</td>\n",
       "        <td>4.0</td>\n",
       "        <td>11.0</td>\n",
       "    </tr>\n",
       "    <tr>\n",
       "        <td>None</td>\n",
       "        <td>8.0</td>\n",
       "        <td>None</td>\n",
       "        <td>None</td>\n",
       "    </tr>\n",
       "</table>"
      ],
      "text/plain": [
       "[(0, 3.0, 3.0, None), (1, 7.0, 4.0, 11.0), (None, 8.0, None, None)]"
      ]
     },
     "execution_count": 40,
     "metadata": {},
     "output_type": "execute_result"
    }
   ],
   "source": [
    "%%sql\n",
    "DROP TABLE IF EXISTS pivout;\n",
    "SELECT madlib.pivot('pivset_ext', 'pivout', 'id', 'piv', 'val', 'sum');\n",
    "SELECT * FROM pivout ORDER BY id;"
   ]
  },
  {
   "cell_type": "markdown",
   "metadata": {},
   "source": [
    "Now create a custom aggregate. Note that the aggregate must have a strict transition function:"
   ]
  },
  {
   "cell_type": "code",
   "execution_count": 41,
   "metadata": {
    "collapsed": false
   },
   "outputs": [
    {
     "name": "stdout",
     "output_type": "stream",
     "text": [
      "Done.\n",
      "Done.\n",
      "Done.\n",
      "Done.\n",
      "Done.\n",
      "1 rows affected.\n",
      "3 rows affected.\n"
     ]
    },
    {
     "data": {
      "text/html": [
       "<table>\n",
       "    <tr>\n",
       "        <th>id</th>\n",
       "        <th>val_array_accum1_piv_10</th>\n",
       "        <th>val_array_accum1_piv_20</th>\n",
       "        <th>val_array_accum1_piv_30</th>\n",
       "    </tr>\n",
       "    <tr>\n",
       "        <td>0</td>\n",
       "        <td>[1.0, 2.0]</td>\n",
       "        <td>[3.0]</td>\n",
       "        <td>[]</td>\n",
       "    </tr>\n",
       "    <tr>\n",
       "        <td>1</td>\n",
       "        <td>[7.0]</td>\n",
       "        <td>[4.0]</td>\n",
       "        <td>[5.0, 6.0]</td>\n",
       "    </tr>\n",
       "    <tr>\n",
       "        <td>None</td>\n",
       "        <td>[8.0]</td>\n",
       "        <td>[]</td>\n",
       "        <td>[]</td>\n",
       "    </tr>\n",
       "</table>"
      ],
      "text/plain": [
       "[(0, [1.0, 2.0], [3.0], []),\n",
       " (1, [7.0], [4.0], [5.0, 6.0]),\n",
       " (None, [8.0], [], [])]"
      ]
     },
     "execution_count": 41,
     "metadata": {},
     "output_type": "execute_result"
    }
   ],
   "source": [
    "%%sql\n",
    "DROP FUNCTION IF EXISTS array_add1 (ANYARRAY, ANYELEMENT) CASCADE;\n",
    "CREATE FUNCTION array_add1(ANYARRAY, ANYELEMENT) RETURNS ANYARRAY AS $$\n",
    "  SELECT $1 || $2\n",
    "$$ LANGUAGE sql STRICT;\n",
    "\n",
    "DROP AGGREGATE IF EXISTS array_accum1 (anyelement);\n",
    "CREATE AGGREGATE array_accum1 (anyelement) (\n",
    "    sfunc = array_add1,     -- state transition function\n",
    "    stype = anyarray,       -- current internal state of the aggregate (temp variable)\n",
    "    initcond = '{}'         -- IC is NULL                                                                                                                                     \n",
    ");\n",
    "DROP TABLE IF EXISTS pivout;\n",
    "SELECT madlib.pivot('pivset_ext', 'pivout', 'id', 'piv', 'val', 'array_accum1'); -- OK since STRICT\n",
    "-- SELECT madlib.pivot('pivset_ext', 'pivout', 'id', 'piv', 'val', 'array_agg'); -- this will throw error since not STRICT\n",
    "SELECT * FROM pivout ORDER BY id;"
   ]
  },
  {
   "cell_type": "markdown",
   "metadata": {},
   "source": [
    "Keep null values in the pivot column:"
   ]
  },
  {
   "cell_type": "code",
   "execution_count": null,
   "metadata": {
    "collapsed": false
   },
   "outputs": [],
   "source": [
    "%%sql\n",
    "DROP TABLE IF EXISTS pivout;\n",
    "SELECT madlib.pivot('pivset_ext', 'pivout', 'id', 'piv', 'val', 'sum', True);\n",
    "SELECT * FROM pivout ORDER BY id;"
   ]
  },
  {
   "cell_type": "markdown",
   "metadata": {},
   "source": [
    "Fill null results with a value of interest:"
   ]
  },
  {
   "cell_type": "code",
   "execution_count": null,
   "metadata": {
    "collapsed": false
   },
   "outputs": [],
   "source": [
    "%%sql\n",
    "DROP TABLE IF EXISTS pivout;\n",
    "SELECT madlib.pivot('pivset_ext', 'pivout', 'id', 'piv', 'val', 'sum', '111');\n",
    "SELECT * FROM pivout ORDER BY id;"
   ]
  },
  {
   "cell_type": "markdown",
   "metadata": {},
   "source": [
    "Use multiple index columns:"
   ]
  },
  {
   "cell_type": "code",
   "execution_count": null,
   "metadata": {
    "collapsed": false
   },
   "outputs": [],
   "source": [
    "%%sql\n",
    "DROP TABLE IF EXISTS pivout;\n",
    "SELECT madlib.pivot('pivset_ext', 'pivout', 'id,id2', 'piv', 'val');\n",
    "SELECT * FROM pivout ORDER BY id,id2;"
   ]
  },
  {
   "cell_type": "markdown",
   "metadata": {},
   "source": [
    "Use multiple pivot columns:"
   ]
  },
  {
   "cell_type": "code",
   "execution_count": null,
   "metadata": {
    "collapsed": false
   },
   "outputs": [],
   "source": [
    "%%sql\n",
    "DROP TABLE IF EXISTS pivout;\n",
    "SELECT madlib.pivot('pivset_ext', 'pivout', 'id', 'piv, piv2', 'val');\n",
    "SELECT * FROM pivout ORDER BY id;"
   ]
  },
  {
   "cell_type": "markdown",
   "metadata": {},
   "source": [
    "Use multiple value columns:"
   ]
  },
  {
   "cell_type": "code",
   "execution_count": null,
   "metadata": {
    "collapsed": false
   },
   "outputs": [],
   "source": [
    "%%sql\n",
    "DROP TABLE IF EXISTS pivout;\n",
    "SELECT madlib.pivot('pivset_ext', 'pivout', 'id', 'piv', 'val, val2');\n",
    "SELECT * FROM pivout ORDER BY id;"
   ]
  },
  {
   "cell_type": "markdown",
   "metadata": {},
   "source": [
    "Use multiple aggregate functions on the same value column (cross product):"
   ]
  },
  {
   "cell_type": "code",
   "execution_count": null,
   "metadata": {
    "collapsed": false
   },
   "outputs": [],
   "source": [
    "%%sql\n",
    "DROP TABLE IF EXISTS pivout;\n",
    "SELECT madlib.pivot('pivset_ext', 'pivout', 'id', 'piv', 'val', 'avg, sum');\n",
    "SELECT * FROM pivout ORDER BY id;"
   ]
  },
  {
   "cell_type": "markdown",
   "metadata": {},
   "source": [
    "Use different aggregate functions for different value columns:"
   ]
  },
  {
   "cell_type": "code",
   "execution_count": null,
   "metadata": {
    "collapsed": false
   },
   "outputs": [],
   "source": [
    "%%sql\n",
    "DROP TABLE IF EXISTS pivout;\n",
    "SELECT madlib.pivot('pivset_ext', 'pivout', 'id', 'piv', 'val, val2',\n",
    "    'val=avg, val2=sum');\n",
    "SELECT * FROM pivout ORDER BY id;"
   ]
  },
  {
   "cell_type": "markdown",
   "metadata": {},
   "source": [
    "Use multiple aggregate functions for different value columns:"
   ]
  },
  {
   "cell_type": "code",
   "execution_count": null,
   "metadata": {
    "collapsed": false
   },
   "outputs": [],
   "source": [
    "%%sql\n",
    "DROP TABLE IF EXISTS pivout;\n",
    "SELECT madlib.pivot('pivset_ext', 'pivout', 'id, id2', 'piv, piv2', 'val, val2',\n",
    "    'val=avg, val2=[avg,sum]', '111', True);\n",
    "SELECT * FROM pivout ORDER BY id,id2;"
   ]
  },
  {
   "cell_type": "markdown",
   "metadata": {},
   "source": [
    "Combine all of the options:"
   ]
  },
  {
   "cell_type": "code",
   "execution_count": 42,
   "metadata": {
    "collapsed": false
   },
   "outputs": [
    {
     "name": "stdout",
     "output_type": "stream",
     "text": [
      "Done.\n",
      "1 rows affected.\n",
      "7 rows affected.\n"
     ]
    },
    {
     "data": {
      "text/html": [
       "<table>\n",
       "    <tr>\n",
       "        <th>id</th>\n",
       "        <th>id2</th>\n",
       "        <th>val_avg_piv_null_piv2_0</th>\n",
       "        <th>val_avg_piv_null_piv2_100</th>\n",
       "        <th>val_avg_piv_null_piv2_200</th>\n",
       "        <th>val_avg_piv_null_piv2_300</th>\n",
       "        <th>val_avg_piv_10_piv2_0</th>\n",
       "        <th>val_avg_piv_10_piv2_100</th>\n",
       "        <th>val_avg_piv_10_piv2_200</th>\n",
       "        <th>val_avg_piv_10_piv2_300</th>\n",
       "        <th>val_avg_piv_20_piv2_0</th>\n",
       "        <th>val_avg_piv_20_piv2_100</th>\n",
       "        <th>val_avg_piv_20_piv2_200</th>\n",
       "        <th>val_avg_piv_20_piv2_300</th>\n",
       "        <th>val_avg_piv_30_piv2_0</th>\n",
       "        <th>val_avg_piv_30_piv2_100</th>\n",
       "        <th>val_avg_piv_30_piv2_200</th>\n",
       "        <th>val_avg_piv_30_piv2_300</th>\n",
       "        <th>val2_avg_piv_null_piv2_0</th>\n",
       "        <th>val2_avg_piv_null_piv2_100</th>\n",
       "        <th>val2_avg_piv_null_piv2_200</th>\n",
       "        <th>val2_avg_piv_null_piv2_300</th>\n",
       "        <th>val2_avg_piv_10_piv2_0</th>\n",
       "        <th>val2_avg_piv_10_piv2_100</th>\n",
       "        <th>val2_avg_piv_10_piv2_200</th>\n",
       "        <th>val2_avg_piv_10_piv2_300</th>\n",
       "        <th>val2_avg_piv_20_piv2_0</th>\n",
       "        <th>val2_avg_piv_20_piv2_100</th>\n",
       "        <th>val2_avg_piv_20_piv2_200</th>\n",
       "        <th>val2_avg_piv_20_piv2_300</th>\n",
       "        <th>val2_avg_piv_30_piv2_0</th>\n",
       "        <th>val2_avg_piv_30_piv2_100</th>\n",
       "        <th>val2_avg_piv_30_piv2_200</th>\n",
       "        <th>val2_avg_piv_30_piv2_300</th>\n",
       "        <th>val2_sum_piv_null_piv2_0</th>\n",
       "        <th>val2_sum_piv_null_piv2_100</th>\n",
       "        <th>val2_sum_piv_null_piv2_200</th>\n",
       "        <th>val2_sum_piv_null_piv2_300</th>\n",
       "        <th>val2_sum_piv_10_piv2_0</th>\n",
       "        <th>val2_sum_piv_10_piv2_100</th>\n",
       "        <th>val2_sum_piv_10_piv2_200</th>\n",
       "        <th>val2_sum_piv_10_piv2_300</th>\n",
       "        <th>val2_sum_piv_20_piv2_0</th>\n",
       "        <th>val2_sum_piv_20_piv2_100</th>\n",
       "        <th>val2_sum_piv_20_piv2_200</th>\n",
       "        <th>val2_sum_piv_20_piv2_300</th>\n",
       "        <th>val2_sum_piv_30_piv2_0</th>\n",
       "        <th>val2_sum_piv_30_piv2_100</th>\n",
       "        <th>val2_sum_piv_30_piv2_200</th>\n",
       "        <th>val2_sum_piv_30_piv2_300</th>\n",
       "    </tr>\n",
       "    <tr>\n",
       "        <td>0</td>\n",
       "        <td>0</td>\n",
       "        <td>111.0</td>\n",
       "        <td>111.0</td>\n",
       "        <td>111.0</td>\n",
       "        <td>111.0</td>\n",
       "        <td>1.0</td>\n",
       "        <td>111.0</td>\n",
       "        <td>111.0</td>\n",
       "        <td>111.0</td>\n",
       "        <td>111.0</td>\n",
       "        <td>111.0</td>\n",
       "        <td>111.0</td>\n",
       "        <td>111.0</td>\n",
       "        <td>111.0</td>\n",
       "        <td>111.0</td>\n",
       "        <td>111.0</td>\n",
       "        <td>111.0</td>\n",
       "        <td>111.0</td>\n",
       "        <td>111.0</td>\n",
       "        <td>111.0</td>\n",
       "        <td>111.0</td>\n",
       "        <td>11.0</td>\n",
       "        <td>111.0</td>\n",
       "        <td>111.0</td>\n",
       "        <td>111.0</td>\n",
       "        <td>111.0</td>\n",
       "        <td>111.0</td>\n",
       "        <td>111.0</td>\n",
       "        <td>111.0</td>\n",
       "        <td>111.0</td>\n",
       "        <td>111.0</td>\n",
       "        <td>111.0</td>\n",
       "        <td>111.0</td>\n",
       "        <td>111.0</td>\n",
       "        <td>111.0</td>\n",
       "        <td>111.0</td>\n",
       "        <td>111.0</td>\n",
       "        <td>11.0</td>\n",
       "        <td>111.0</td>\n",
       "        <td>111.0</td>\n",
       "        <td>111.0</td>\n",
       "        <td>111.0</td>\n",
       "        <td>111.0</td>\n",
       "        <td>111.0</td>\n",
       "        <td>111.0</td>\n",
       "        <td>111.0</td>\n",
       "        <td>111.0</td>\n",
       "        <td>111.0</td>\n",
       "        <td>111.0</td>\n",
       "    </tr>\n",
       "    <tr>\n",
       "        <td>0</td>\n",
       "        <td>1</td>\n",
       "        <td>111.0</td>\n",
       "        <td>111.0</td>\n",
       "        <td>111.0</td>\n",
       "        <td>111.0</td>\n",
       "        <td>111.0</td>\n",
       "        <td>2.0</td>\n",
       "        <td>111.0</td>\n",
       "        <td>111.0</td>\n",
       "        <td>111.0</td>\n",
       "        <td>3.0</td>\n",
       "        <td>111.0</td>\n",
       "        <td>111.0</td>\n",
       "        <td>111.0</td>\n",
       "        <td>111.0</td>\n",
       "        <td>111.0</td>\n",
       "        <td>111.0</td>\n",
       "        <td>111.0</td>\n",
       "        <td>111.0</td>\n",
       "        <td>111.0</td>\n",
       "        <td>111.0</td>\n",
       "        <td>111.0</td>\n",
       "        <td>12.0</td>\n",
       "        <td>111.0</td>\n",
       "        <td>111.0</td>\n",
       "        <td>111.0</td>\n",
       "        <td>13.0</td>\n",
       "        <td>111.0</td>\n",
       "        <td>111.0</td>\n",
       "        <td>111.0</td>\n",
       "        <td>111.0</td>\n",
       "        <td>111.0</td>\n",
       "        <td>111.0</td>\n",
       "        <td>111.0</td>\n",
       "        <td>111.0</td>\n",
       "        <td>111.0</td>\n",
       "        <td>111.0</td>\n",
       "        <td>111.0</td>\n",
       "        <td>12.0</td>\n",
       "        <td>111.0</td>\n",
       "        <td>111.0</td>\n",
       "        <td>111.0</td>\n",
       "        <td>13.0</td>\n",
       "        <td>111.0</td>\n",
       "        <td>111.0</td>\n",
       "        <td>111.0</td>\n",
       "        <td>111.0</td>\n",
       "        <td>111.0</td>\n",
       "        <td>111.0</td>\n",
       "    </tr>\n",
       "    <tr>\n",
       "        <td>1</td>\n",
       "        <td>0</td>\n",
       "        <td>111.0</td>\n",
       "        <td>111.0</td>\n",
       "        <td>111.0</td>\n",
       "        <td>111.0</td>\n",
       "        <td>111.0</td>\n",
       "        <td>111.0</td>\n",
       "        <td>111.0</td>\n",
       "        <td>111.0</td>\n",
       "        <td>111.0</td>\n",
       "        <td>111.0</td>\n",
       "        <td>111.0</td>\n",
       "        <td>111.0</td>\n",
       "        <td>111.0</td>\n",
       "        <td>111.0</td>\n",
       "        <td>111.0</td>\n",
       "        <td>111.0</td>\n",
       "        <td>111.0</td>\n",
       "        <td>111.0</td>\n",
       "        <td>111.0</td>\n",
       "        <td>111.0</td>\n",
       "        <td>0.0</td>\n",
       "        <td>111.0</td>\n",
       "        <td>111.0</td>\n",
       "        <td>111.0</td>\n",
       "        <td>111.0</td>\n",
       "        <td>111.0</td>\n",
       "        <td>111.0</td>\n",
       "        <td>111.0</td>\n",
       "        <td>111.0</td>\n",
       "        <td>111.0</td>\n",
       "        <td>111.0</td>\n",
       "        <td>111.0</td>\n",
       "        <td>111.0</td>\n",
       "        <td>111.0</td>\n",
       "        <td>111.0</td>\n",
       "        <td>111.0</td>\n",
       "        <td>0.0</td>\n",
       "        <td>111.0</td>\n",
       "        <td>111.0</td>\n",
       "        <td>111.0</td>\n",
       "        <td>111.0</td>\n",
       "        <td>111.0</td>\n",
       "        <td>111.0</td>\n",
       "        <td>111.0</td>\n",
       "        <td>111.0</td>\n",
       "        <td>111.0</td>\n",
       "        <td>111.0</td>\n",
       "        <td>111.0</td>\n",
       "    </tr>\n",
       "    <tr>\n",
       "        <td>1</td>\n",
       "        <td>2</td>\n",
       "        <td>111.0</td>\n",
       "        <td>111.0</td>\n",
       "        <td>111.0</td>\n",
       "        <td>111.0</td>\n",
       "        <td>111.0</td>\n",
       "        <td>111.0</td>\n",
       "        <td>111.0</td>\n",
       "        <td>111.0</td>\n",
       "        <td>111.0</td>\n",
       "        <td>4.0</td>\n",
       "        <td>111.0</td>\n",
       "        <td>111.0</td>\n",
       "        <td>111.0</td>\n",
       "        <td>111.0</td>\n",
       "        <td>111.0</td>\n",
       "        <td>111.0</td>\n",
       "        <td>111.0</td>\n",
       "        <td>111.0</td>\n",
       "        <td>111.0</td>\n",
       "        <td>111.0</td>\n",
       "        <td>111.0</td>\n",
       "        <td>111.0</td>\n",
       "        <td>111.0</td>\n",
       "        <td>111.0</td>\n",
       "        <td>111.0</td>\n",
       "        <td>14.0</td>\n",
       "        <td>111.0</td>\n",
       "        <td>111.0</td>\n",
       "        <td>111.0</td>\n",
       "        <td>111.0</td>\n",
       "        <td>111.0</td>\n",
       "        <td>111.0</td>\n",
       "        <td>111.0</td>\n",
       "        <td>111.0</td>\n",
       "        <td>111.0</td>\n",
       "        <td>111.0</td>\n",
       "        <td>111.0</td>\n",
       "        <td>111.0</td>\n",
       "        <td>111.0</td>\n",
       "        <td>111.0</td>\n",
       "        <td>111.0</td>\n",
       "        <td>14.0</td>\n",
       "        <td>111.0</td>\n",
       "        <td>111.0</td>\n",
       "        <td>111.0</td>\n",
       "        <td>111.0</td>\n",
       "        <td>111.0</td>\n",
       "        <td>111.0</td>\n",
       "    </tr>\n",
       "    <tr>\n",
       "        <td>1</td>\n",
       "        <td>3</td>\n",
       "        <td>111.0</td>\n",
       "        <td>111.0</td>\n",
       "        <td>111.0</td>\n",
       "        <td>111.0</td>\n",
       "        <td>111.0</td>\n",
       "        <td>111.0</td>\n",
       "        <td>7.0</td>\n",
       "        <td>111.0</td>\n",
       "        <td>111.0</td>\n",
       "        <td>111.0</td>\n",
       "        <td>111.0</td>\n",
       "        <td>111.0</td>\n",
       "        <td>111.0</td>\n",
       "        <td>111.0</td>\n",
       "        <td>5.5</td>\n",
       "        <td>111.0</td>\n",
       "        <td>111.0</td>\n",
       "        <td>111.0</td>\n",
       "        <td>111.0</td>\n",
       "        <td>111.0</td>\n",
       "        <td>111.0</td>\n",
       "        <td>111.0</td>\n",
       "        <td>17.0</td>\n",
       "        <td>111.0</td>\n",
       "        <td>111.0</td>\n",
       "        <td>111.0</td>\n",
       "        <td>111.0</td>\n",
       "        <td>111.0</td>\n",
       "        <td>111.0</td>\n",
       "        <td>111.0</td>\n",
       "        <td>15.5</td>\n",
       "        <td>111.0</td>\n",
       "        <td>111.0</td>\n",
       "        <td>111.0</td>\n",
       "        <td>111.0</td>\n",
       "        <td>111.0</td>\n",
       "        <td>111.0</td>\n",
       "        <td>111.0</td>\n",
       "        <td>17.0</td>\n",
       "        <td>111.0</td>\n",
       "        <td>111.0</td>\n",
       "        <td>111.0</td>\n",
       "        <td>111.0</td>\n",
       "        <td>111.0</td>\n",
       "        <td>111.0</td>\n",
       "        <td>111.0</td>\n",
       "        <td>31.0</td>\n",
       "        <td>111.0</td>\n",
       "    </tr>\n",
       "    <tr>\n",
       "        <td>1</td>\n",
       "        <td>4</td>\n",
       "        <td>111.0</td>\n",
       "        <td>111.0</td>\n",
       "        <td>111.0</td>\n",
       "        <td>9.0</td>\n",
       "        <td>111.0</td>\n",
       "        <td>111.0</td>\n",
       "        <td>111.0</td>\n",
       "        <td>111.0</td>\n",
       "        <td>111.0</td>\n",
       "        <td>111.0</td>\n",
       "        <td>111.0</td>\n",
       "        <td>111.0</td>\n",
       "        <td>111.0</td>\n",
       "        <td>111.0</td>\n",
       "        <td>111.0</td>\n",
       "        <td>111.0</td>\n",
       "        <td>111.0</td>\n",
       "        <td>111.0</td>\n",
       "        <td>111.0</td>\n",
       "        <td>19.0</td>\n",
       "        <td>111.0</td>\n",
       "        <td>111.0</td>\n",
       "        <td>111.0</td>\n",
       "        <td>111.0</td>\n",
       "        <td>111.0</td>\n",
       "        <td>111.0</td>\n",
       "        <td>111.0</td>\n",
       "        <td>111.0</td>\n",
       "        <td>111.0</td>\n",
       "        <td>111.0</td>\n",
       "        <td>111.0</td>\n",
       "        <td>111.0</td>\n",
       "        <td>111.0</td>\n",
       "        <td>111.0</td>\n",
       "        <td>111.0</td>\n",
       "        <td>19.0</td>\n",
       "        <td>111.0</td>\n",
       "        <td>111.0</td>\n",
       "        <td>111.0</td>\n",
       "        <td>111.0</td>\n",
       "        <td>111.0</td>\n",
       "        <td>111.0</td>\n",
       "        <td>111.0</td>\n",
       "        <td>111.0</td>\n",
       "        <td>111.0</td>\n",
       "        <td>111.0</td>\n",
       "        <td>111.0</td>\n",
       "        <td>111.0</td>\n",
       "    </tr>\n",
       "    <tr>\n",
       "        <td>None</td>\n",
       "        <td>0</td>\n",
       "        <td>111.0</td>\n",
       "        <td>111.0</td>\n",
       "        <td>111.0</td>\n",
       "        <td>111.0</td>\n",
       "        <td>111.0</td>\n",
       "        <td>111.0</td>\n",
       "        <td>111.0</td>\n",
       "        <td>8.0</td>\n",
       "        <td>111.0</td>\n",
       "        <td>111.0</td>\n",
       "        <td>111.0</td>\n",
       "        <td>111.0</td>\n",
       "        <td>111.0</td>\n",
       "        <td>111.0</td>\n",
       "        <td>111.0</td>\n",
       "        <td>111.0</td>\n",
       "        <td>111.0</td>\n",
       "        <td>111.0</td>\n",
       "        <td>111.0</td>\n",
       "        <td>111.0</td>\n",
       "        <td>111.0</td>\n",
       "        <td>111.0</td>\n",
       "        <td>111.0</td>\n",
       "        <td>18.0</td>\n",
       "        <td>111.0</td>\n",
       "        <td>111.0</td>\n",
       "        <td>111.0</td>\n",
       "        <td>111.0</td>\n",
       "        <td>111.0</td>\n",
       "        <td>111.0</td>\n",
       "        <td>111.0</td>\n",
       "        <td>111.0</td>\n",
       "        <td>111.0</td>\n",
       "        <td>111.0</td>\n",
       "        <td>111.0</td>\n",
       "        <td>111.0</td>\n",
       "        <td>111.0</td>\n",
       "        <td>111.0</td>\n",
       "        <td>111.0</td>\n",
       "        <td>18.0</td>\n",
       "        <td>111.0</td>\n",
       "        <td>111.0</td>\n",
       "        <td>111.0</td>\n",
       "        <td>111.0</td>\n",
       "        <td>111.0</td>\n",
       "        <td>111.0</td>\n",
       "        <td>111.0</td>\n",
       "        <td>111.0</td>\n",
       "    </tr>\n",
       "</table>"
      ],
      "text/plain": [
       "[(0, 0, 111.0, 111.0, 111.0, 111.0, 1.0, 111.0, 111.0, 111.0, 111.0, 111.0, 111.0, 111.0, 111.0, 111.0, 111.0, 111.0, 111.0, 111.0, 111.0, 111.0, 11.0, 111.0, 111.0, 111.0, 111.0, 111.0, 111.0, 111.0, 111.0, 111.0, 111.0, 111.0, 111.0, 111.0, 111.0, 111.0, 11.0, 111.0, 111.0, 111.0, 111.0, 111.0, 111.0, 111.0, 111.0, 111.0, 111.0, 111.0),\n",
       " (0, 1, 111.0, 111.0, 111.0, 111.0, 111.0, 2.0, 111.0, 111.0, 111.0, 3.0, 111.0, 111.0, 111.0, 111.0, 111.0, 111.0, 111.0, 111.0, 111.0, 111.0, 111.0, 12.0, 111.0, 111.0, 111.0, 13.0, 111.0, 111.0, 111.0, 111.0, 111.0, 111.0, 111.0, 111.0, 111.0, 111.0, 111.0, 12.0, 111.0, 111.0, 111.0, 13.0, 111.0, 111.0, 111.0, 111.0, 111.0, 111.0),\n",
       " (1, 0, 111.0, 111.0, 111.0, 111.0, 111.0, 111.0, 111.0, 111.0, 111.0, 111.0, 111.0, 111.0, 111.0, 111.0, 111.0, 111.0, 111.0, 111.0, 111.0, 111.0, 0.0, 111.0, 111.0, 111.0, 111.0, 111.0, 111.0, 111.0, 111.0, 111.0, 111.0, 111.0, 111.0, 111.0, 111.0, 111.0, 0.0, 111.0, 111.0, 111.0, 111.0, 111.0, 111.0, 111.0, 111.0, 111.0, 111.0, 111.0),\n",
       " (1, 2, 111.0, 111.0, 111.0, 111.0, 111.0, 111.0, 111.0, 111.0, 111.0, 4.0, 111.0, 111.0, 111.0, 111.0, 111.0, 111.0, 111.0, 111.0, 111.0, 111.0, 111.0, 111.0, 111.0, 111.0, 111.0, 14.0, 111.0, 111.0, 111.0, 111.0, 111.0, 111.0, 111.0, 111.0, 111.0, 111.0, 111.0, 111.0, 111.0, 111.0, 111.0, 14.0, 111.0, 111.0, 111.0, 111.0, 111.0, 111.0),\n",
       " (1, 3, 111.0, 111.0, 111.0, 111.0, 111.0, 111.0, 7.0, 111.0, 111.0, 111.0, 111.0, 111.0, 111.0, 111.0, 5.5, 111.0, 111.0, 111.0, 111.0, 111.0, 111.0, 111.0, 17.0, 111.0, 111.0, 111.0, 111.0, 111.0, 111.0, 111.0, 15.5, 111.0, 111.0, 111.0, 111.0, 111.0, 111.0, 111.0, 17.0, 111.0, 111.0, 111.0, 111.0, 111.0, 111.0, 111.0, 31.0, 111.0),\n",
       " (1, 4, 111.0, 111.0, 111.0, 9.0, 111.0, 111.0, 111.0, 111.0, 111.0, 111.0, 111.0, 111.0, 111.0, 111.0, 111.0, 111.0, 111.0, 111.0, 111.0, 19.0, 111.0, 111.0, 111.0, 111.0, 111.0, 111.0, 111.0, 111.0, 111.0, 111.0, 111.0, 111.0, 111.0, 111.0, 111.0, 19.0, 111.0, 111.0, 111.0, 111.0, 111.0, 111.0, 111.0, 111.0, 111.0, 111.0, 111.0, 111.0),\n",
       " (None, 0, 111.0, 111.0, 111.0, 111.0, 111.0, 111.0, 111.0, 8.0, 111.0, 111.0, 111.0, 111.0, 111.0, 111.0, 111.0, 111.0, 111.0, 111.0, 111.0, 111.0, 111.0, 111.0, 111.0, 18.0, 111.0, 111.0, 111.0, 111.0, 111.0, 111.0, 111.0, 111.0, 111.0, 111.0, 111.0, 111.0, 111.0, 111.0, 111.0, 18.0, 111.0, 111.0, 111.0, 111.0, 111.0, 111.0, 111.0, 111.0)]"
      ]
     },
     "execution_count": 42,
     "metadata": {},
     "output_type": "execute_result"
    }
   ],
   "source": [
    "%%sql\n",
    "DROP TABLE IF EXISTS pivout;\n",
    "SELECT madlib.pivot('pivset_ext', 'pivout', 'id, id2', 'piv, piv2', 'val, val2',\n",
    "    'val=avg, val2=[avg,sum]', '111', True);\n",
    "SELECT * FROM pivout ORDER BY id,id2;"
   ]
  },
  {
   "cell_type": "markdown",
   "metadata": {},
   "source": [
    "Create a dictionary for output column names:"
   ]
  },
  {
   "cell_type": "code",
   "execution_count": null,
   "metadata": {
    "collapsed": false
   },
   "outputs": [],
   "source": [
    "%%sql\n",
    "DROP TABLE IF EXISTS pivout, pivout_dictionary;\n",
    "SELECT madlib.pivot('pivset_ext', 'pivout', 'id, id2', 'piv, piv2', 'val, val2',\n",
    "    'val=avg, val2=[avg,sum]', '111', True, True);\n",
    "SELECT * FROM pivout_dictionary;"
   ]
  },
  {
   "cell_type": "code",
   "execution_count": null,
   "metadata": {
    "collapsed": false
   },
   "outputs": [],
   "source": [
    "%%sql\n",
    "SELECT * FROM pivout ORDER BY id,id2;"
   ]
  }
 ],
 "metadata": {
  "kernelspec": {
   "display_name": "Python 2",
   "language": "python",
   "name": "python2"
  },
  "language_info": {
   "codemirror_mode": {
    "name": "ipython",
    "version": 2
   },
   "file_extension": ".py",
   "mimetype": "text/x-python",
   "name": "python",
   "nbconvert_exporter": "python",
   "pygments_lexer": "ipython2",
   "version": "2.7.11"
  }
 },
 "nbformat": 4,
 "nbformat_minor": 0
}

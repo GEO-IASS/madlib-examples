{
 "cells": [
  {
   "cell_type": "code",
   "execution_count": 1,
   "metadata": {
    "collapsed": false
   },
   "outputs": [
    {
     "name": "stderr",
     "output_type": "stream",
     "text": [
      "/usr/local/lib/python2.7/site-packages/IPython/config.py:13: ShimWarning: The `IPython.config` package has been deprecated. You should import from traitlets.config instead.\n",
      "  \"You should import from traitlets.config instead.\", ShimWarning)\n",
      "/usr/local/lib/python2.7/site-packages/IPython/utils/traitlets.py:5: UserWarning: IPython.utils.traitlets has moved to a top-level traitlets package.\n",
      "  warn(\"IPython.utils.traitlets has moved to a top-level traitlets package.\")\n"
     ]
    }
   ],
   "source": [
    "%load_ext sql\n",
    "%sql postgresql://riyer@localhost:5094/madlib-pg94\n",
    "%matplotlib inline\n",
    "\n",
    "import pandas as pd\n",
    "import numpy as np\n",
    "import matplotlib.pyplot as plt\n",
    "import matplotlib.font_manager"
   ]
  },
  {
   "cell_type": "code",
   "execution_count": 2,
   "metadata": {
    "collapsed": false
   },
   "outputs": [
    {
     "name": "stderr",
     "output_type": "stream",
     "text": [
      "/usr/local/lib/python2.7/site-packages/matplotlib/collections.py:590: FutureWarning: elementwise comparison failed; returning scalar instead, but in the future will perform elementwise comparison\n",
      "  if self._edgecolors == str('face'):\n"
     ]
    },
    {
     "data": {
      "image/png": "[encoded data removed]",
      "text/plain": [
       "<matplotlib.figure.Figure at 0x10b510690>"
      ]
     },
     "metadata": {},
     "output_type": "display_data"
    }
   ],
   "source": [
    "# Generate train data\n",
    "X = 0.3 * np.random.randn(100, 2)\n",
    "X_train = np.r_[X + 2, X - 2]\n",
    "X_train_D = pd.DataFrame(X_train, columns=['x1', 'x2'])\n",
    "\n",
    "# Generate some abnormal novel observations\n",
    "X_outliers = np.random.uniform(low=-7, high=7, size=(40, 2))\n",
    "X_outliers_D = pd.DataFrame(X_outliers, columns=['x1', 'x2'])\n",
    "\n",
    "b = plt.scatter(X_train[:, 0], X_train[:, 1], c='blue')\n",
    "c = plt.scatter(X_outliers[:, 0], X_outliers[:, 1], c='red')\n",
    "plt.axis('tight')\n",
    "plt.xlim((-5, 5))\n",
    "plt.ylim((-5, 5))\n",
    "plt.show()"
   ]
  },
  {
   "cell_type": "code",
   "execution_count": null,
   "metadata": {
    "collapsed": false
   },
   "outputs": [],
   "source": [
    "%sql DROP TABLE IF EXISTS X_train_D CASCADE\n",
    "%sql PERSIST X_train_D\n",
    "%sql ALTER TABLE X_train_D add column X float[]\n",
    "%sql update X_train_D set X = array[x1, x2]::float[]\n",
    "\n",
    "%sql DROP TABLE IF EXISTS X_outliers_D CASCADE\n",
    "%sql PERSIST X_outliers_D\n",
    "%sql ALTER TABLE X_outliers_D add column X float[]\n",
    "%sql update X_outliers_D set X = array[x1, x2]::float[]"
   ]
  },
  {
   "cell_type": "code",
   "execution_count": 3,
   "metadata": {
    "collapsed": false
   },
   "outputs": [
    {
     "name": "stdout",
     "output_type": "stream",
     "text": [
      "Done.\n",
      "1 rows affected.\n",
      "1 rows affected.\n"
     ]
    },
    {
     "data": {
      "text/html": [
       "<table>\n",
       "    <tr>\n",
       "        <th>coef</th>\n",
       "        <th>loss</th>\n",
       "        <th>norm_of_gradient</th>\n",
       "        <th>num_iterations</th>\n",
       "        <th>num_rows_processed</th>\n",
       "        <th>num_rows_skipped</th>\n",
       "        <th>dep_var_mapping</th>\n",
       "    </tr>\n",
       "    <tr>\n",
       "        <td>[-0.048301104503, -0.122200121518, -0.725835720366, 0.129208706974, -0.22980890515, -0.00646300462569, 0.3521210424, -0.731995052576, 0.372535457517, -0.888924019613, 0.517362743117, -0.0183990849993, -0.133937197919, -0.0666512855922, -0.0647609645088, -0.73587709865, -0.0413679717324, -0.871147893088, -0.733089842384, -0.564105142703, -0.119224326507, -0.129964953257, -0.655786540545, -0.272574193761, -0.327235923846, -0.110496063753, 0.288575614968, 0.450062748754, 0.607194617033, -0.333919531985, 0.01175945923, 0.324095606314, 0.0827239044415, 0.5642467751, 0.415955346251, 0.297343910895, 0.0445882351002, -0.112901800006, -0.55695443822, -0.0919485505377, 0.615323634414, 0.0819586514598, 0.470344944184, 0.517787414985, 0.140065388153, 0.342160244194, -0.050658212157, 0.112368286222, 0.655032512637, 0.69450581537, -0.292756985108, -0.097345939014, 0.334653189468, -0.275740432261, -0.633730854066, -1.00000940608]</td>\n",
       "        <td>70.3408421251</td>\n",
       "        <td>110.080817554</td>\n",
       "        <td>100</td>\n",
       "        <td>201</td>\n",
       "        <td>-1</td>\n",
       "        <td>[-1.0, 1.0]</td>\n",
       "    </tr>\n",
       "</table>"
      ],
      "text/plain": [
       "[([-0.048301104503, -0.122200121518, -0.725835720366, 0.129208706974, -0.22980890515, -0.00646300462569, 0.3521210424, -0.731995052576, 0.372535457517, -0.888924019613, 0.517362743117, -0.0183990849993, -0.133937197919, -0.0666512855922, -0.0647609645088, -0.73587709865, -0.0413679717324, -0.871147893088, -0.733089842384, -0.564105142703, -0.119224326507, -0.129964953257, -0.655786540545, -0.272574193761, -0.327235923846, -0.110496063753, 0.288575614968, 0.450062748754, 0.607194617033, -0.333919531985, 0.01175945923, 0.324095606314, 0.0827239044415, 0.5642467751, 0.415955346251, 0.297343910895, 0.0445882351002, -0.112901800006, -0.55695443822, -0.0919485505377, 0.615323634414, 0.0819586514598, 0.470344944184, 0.517787414985, 0.140065388153, 0.342160244194, -0.050658212157, 0.112368286222, 0.655032512637, 0.69450581537, -0.292756985108, -0.097345939014, 0.334653189468, -0.275740432261, -0.633730854066, -1.00000940608], 70.3408421251, 110.080817554401, 100, 201L, -1L, [-1.0, 1.0])]"
      ]
     },
     "execution_count": 3,
     "metadata": {},
     "output_type": "execute_result"
    }
   ],
   "source": [
    "%%sql \n",
    "DROP TABLE IF EXISTS svm_out1, svm_out1_summary, svm_out1_random CASCADE;\n",
    "SELECT madlib.svm_one_class(\n",
    "    'X_train_D',    -- source table\n",
    "    'svm_out1',     -- output table\n",
    "    'X',            -- features\n",
    "    'gaussian',     -- kernel\n",
    "    'gamma=1, n_components=55, random_state=3', \n",
    "    NULL,           -- grouping \n",
    "    'init_stepsize=0.1, lambda=10, max_iter=100, tolerance=0'  \n",
    "    );\n",
    "SELECT * FROM svm_out1; "
   ]
  },
  {
   "cell_type": "code",
   "execution_count": null,
   "metadata": {
    "collapsed": false
   },
   "outputs": [],
   "source": [
    "%sql drop table if exists y_pred_train;\n",
    "%sql SELECT madlib.svm_predict('svm_out1', 'X_train_D', 'index', 'y_pred_train');\n",
    "\n",
    "%sql drop table if exists y_pred_outliers;\n",
    "%sql SELECT madlib.svm_predict('svm_out1', 'X_outliers_D', 'index', 'y_pred_outliers');\n",
    "y_pred_train = %sql SELECT * from y_pred_train; \n",
    "\n",
    "y_pred_outliers = %sql SELECT * from y_pred_outliers; \n",
    "%sql SELECT * FROM y_pred_outliers limit 20;"
   ]
  },
  {
   "cell_type": "code",
   "execution_count": 5,
   "metadata": {
    "collapsed": false
   },
   "outputs": [
    {
     "name": "stdout",
     "output_type": "stream",
     "text": [
      "Done.\n",
      "Done.\n",
      "250000 rows affected.\n"
     ]
    },
    {
     "data": {
      "text/plain": [
       "[]"
      ]
     },
     "execution_count": 5,
     "metadata": {},
     "output_type": "execute_result"
    }
   ],
   "source": [
    "# MADLIB: predict over the decision grid for plotting\n",
    "xx, yy = np.meshgrid(np.linspace(-7, 7, 500), np.linspace(-7, 7, 500))\n",
    "grid_points = pd.DataFrame(np.c_[xx.ravel(), yy.ravel()], columns=['x1', 'x2'])\n",
    "\n",
    "%sql DROP TABLE IF EXISTS grid_points CASCADE\n",
    "%sql PERSIST grid_points\n",
    "%sql ALTER TABLE grid_points add column X float[]\n",
    "%sql update grid_points set X = array[x1, x2]::float[]"
   ]
  },
  {
   "cell_type": "code",
   "execution_count": 6,
   "metadata": {
    "collapsed": false
   },
   "outputs": [
    {
     "name": "stdout",
     "output_type": "stream",
     "text": [
      "Done.\n",
      "1 rows affected.\n",
      "250000 rows affected.\n"
     ]
    },
    {
     "data": {
      "image/png": "[encoded data removed]",
      "text/plain": [
       "<matplotlib.figure.Figure at 0x10c6be110>"
      ]
     },
     "metadata": {},
     "output_type": "display_data"
    }
   ],
   "source": [
    "%sql drop table if exists Z_D;\n",
    "%sql SELECT madlib.svm_predict('svm_out1', 'grid_points', 'index', 'Z_D');\n",
    "Z_D = %sql SELECT decision_function from Z_D\n",
    "Z = np.array(Z_D)\n",
    "Z = Z.reshape(xx.shape)\n",
    "\n",
    "plt.title(\"Novelty Detection\")\n",
    "plt.contourf(xx, yy, Z, levels=[0, Z.max()], colors='orange')\n",
    "plt.contourf(xx, yy, Z, levels=[Z.min(), 0], colors='cyan')\n",
    "# plt.contourf(xx, yy, Z, levels=np.linspace(Z.min(), Z.max(), 7), cmap=plt.cm.Blues_r)\n",
    "\n",
    "\n",
    "b1 = plt.scatter(X_train[:, 0], X_train[:, 1], c='blue')\n",
    "c = plt.scatter(X_outliers[:, 0], X_outliers[:, 1], c='red')\n",
    "plt.axis('tight')\n",
    "plt.xlim((-5, 5))\n",
    "plt.ylim((-5, 5))\n",
    "plt.show()"
   ]
  },
  {
   "cell_type": "code",
   "execution_count": null,
   "metadata": {
    "collapsed": true
   },
   "outputs": [],
   "source": []
  }
 ],
 "metadata": {
  "kernelspec": {
   "display_name": "Python 2",
   "language": "python",
   "name": "python2"
  },
  "language_info": {
   "codemirror_mode": {
    "name": "ipython",
    "version": 2
   },
   "file_extension": ".py",
   "mimetype": "text/x-python",
   "name": "python",
   "nbconvert_exporter": "python",
   "pygments_lexer": "ipython2",
   "version": "2.7.12"
  }
 },
 "nbformat": 4,
 "nbformat_minor": 0
}

{
 "cells": [
  {
   "cell_type": "markdown",
   "metadata": {},
   "source": [
    "# Prediction metrics\n",
    "\n",
    "This module provides a set of metrics to evaluate the quality of predictions of a model. A typical function will take a set of \"prediction\" and \"observation\" values and use them to calculate the desired metric, unless noted otherwise."
   ]
  },
  {
   "cell_type": "code",
   "execution_count": null,
   "metadata": {
    "collapsed": false,
    "scrolled": true
   },
   "outputs": [],
   "source": [
    "%load_ext sql"
   ]
  },
  {
   "cell_type": "code",
   "execution_count": null,
   "metadata": {
    "collapsed": false
   },
   "outputs": [],
   "source": [
    "# %sql postgresql://gpdbchina@10.194.10.68:55000/madlib\n",
    "%sql postgresql://fmcquillan@localhost:5432/madlib"
   ]
  },
  {
   "cell_type": "code",
   "execution_count": 34,
   "metadata": {
    "collapsed": false
   },
   "outputs": [
    {
     "name": "stdout",
     "output_type": "stream",
     "text": [
      "1 rows affected.\n"
     ]
    },
    {
     "data": {
      "text/html": [
       "<table>\n",
       "    <tr>\n",
       "        <th>version</th>\n",
       "    </tr>\n",
       "    <tr>\n",
       "        <td>MADlib version: 1.9.1, git revision: rc/v1.9-rc1-39-g1929aed, cmake configuration time: Tue Aug 30 00:17:02 UTC 2016, build type: RelWithDebInfo, build system: Darwin-14.5.0, C compiler: Clang, C++ compiler: Clang</td>\n",
       "    </tr>\n",
       "</table>"
      ],
      "text/plain": [
       "[(u'MADlib version: 1.9.1, git revision: rc/v1.9-rc1-39-g1929aed, cmake configuration time: Tue Aug 30 00:17:02 UTC 2016, build type: RelWithDebInfo, build system: Darwin-14.5.0, C compiler: Clang, C++ compiler: Clang',)]"
      ]
     },
     "execution_count": 34,
     "metadata": {},
     "output_type": "execute_result"
    }
   ],
   "source": [
    "%sql select madlib.version();"
   ]
  },
  {
   "cell_type": "markdown",
   "metadata": {},
   "source": [
    "## Continuous variables"
   ]
  },
  {
   "cell_type": "code",
   "execution_count": 35,
   "metadata": {
    "collapsed": false
   },
   "outputs": [
    {
     "name": "stdout",
     "output_type": "stream",
     "text": [
      "Done.\n",
      "Done.\n",
      "4 rows affected.\n",
      "4 rows affected.\n"
     ]
    },
    {
     "data": {
      "text/html": [
       "<table>\n",
       "    <tr>\n",
       "        <th>pred</th>\n",
       "        <th>obs</th>\n",
       "    </tr>\n",
       "    <tr>\n",
       "        <td>37.5</td>\n",
       "        <td>53.1</td>\n",
       "    </tr>\n",
       "    <tr>\n",
       "        <td>12.3</td>\n",
       "        <td>34.2</td>\n",
       "    </tr>\n",
       "    <tr>\n",
       "        <td>74.2</td>\n",
       "        <td>65.4</td>\n",
       "    </tr>\n",
       "    <tr>\n",
       "        <td>91.1</td>\n",
       "        <td>82.1</td>\n",
       "    </tr>\n",
       "</table>"
      ],
      "text/plain": [
       "[(37.5, 53.1), (12.3, 34.2), (74.2, 65.4), (91.1, 82.1)]"
      ]
     },
     "execution_count": 35,
     "metadata": {},
     "output_type": "execute_result"
    }
   ],
   "source": [
    "%%sql \n",
    "DROP TABLE IF EXISTS test_set;\n",
    "CREATE TABLE test_set(\n",
    "                  pred FLOAT8,  -- predicted values\n",
    "                  obs FLOAT8    -- actual observed values\n",
    "                );\n",
    "INSERT INTO test_set VALUES\n",
    "  (37.5,53.1), (12.3,34.2), (74.2,65.4), (91.1,82.1);\n",
    "\n",
    "SELECT * FROM test_set;\n"
   ]
  },
  {
   "cell_type": "code",
   "execution_count": 36,
   "metadata": {
    "collapsed": false
   },
   "outputs": [
    {
     "name": "stdout",
     "output_type": "stream",
     "text": [
      "Done.\n",
      "1 rows affected.\n",
      "1 rows affected.\n"
     ]
    },
    {
     "data": {
      "text/html": [
       "<table>\n",
       "    <tr>\n",
       "        <th>mean_abs_error</th>\n",
       "    </tr>\n",
       "    <tr>\n",
       "        <td>13.825</td>\n",
       "    </tr>\n",
       "</table>"
      ],
      "text/plain": [
       "[(13.825,)]"
      ]
     },
     "execution_count": 36,
     "metadata": {},
     "output_type": "execute_result"
    }
   ],
   "source": [
    "%%sql\n",
    "DROP TABLE IF EXISTS table_out;\n",
    "SELECT madlib.mean_abs_error( 'test_set', 'table_out', 'pred', 'obs');\n",
    "SELECT * FROM table_out;"
   ]
  },
  {
   "cell_type": "code",
   "execution_count": 37,
   "metadata": {
    "collapsed": false
   },
   "outputs": [
    {
     "name": "stdout",
     "output_type": "stream",
     "text": [
      "Done.\n",
      "1 rows affected.\n",
      "1 rows affected.\n"
     ]
    },
    {
     "data": {
      "text/html": [
       "<table>\n",
       "    <tr>\n",
       "        <th>mean_abs_perc_error</th>\n",
       "    </tr>\n",
       "    <tr>\n",
       "        <td>0.294578793636</td>\n",
       "    </tr>\n",
       "</table>"
      ],
      "text/plain": [
       "[(0.294578793636013,)]"
      ]
     },
     "execution_count": 37,
     "metadata": {},
     "output_type": "execute_result"
    }
   ],
   "source": [
    "%%sql\n",
    "DROP TABLE IF EXISTS table_out;\n",
    "SELECT madlib.mean_abs_perc_error( 'test_set', 'table_out', 'pred', 'obs');\n",
    "SELECT * FROM table_out;"
   ]
  },
  {
   "cell_type": "code",
   "execution_count": 38,
   "metadata": {
    "collapsed": false
   },
   "outputs": [
    {
     "name": "stdout",
     "output_type": "stream",
     "text": [
      "Done.\n",
      "1 rows affected.\n",
      "1 rows affected.\n"
     ]
    },
    {
     "data": {
      "text/html": [
       "<table>\n",
       "    <tr>\n",
       "        <th>mean_perc_error</th>\n",
       "    </tr>\n",
       "    <tr>\n",
       "        <td>-0.172489300328</td>\n",
       "    </tr>\n",
       "</table>"
      ],
      "text/plain": [
       "[(-0.17248930032771,)]"
      ]
     },
     "execution_count": 38,
     "metadata": {},
     "output_type": "execute_result"
    }
   ],
   "source": [
    "%%sql\n",
    "DROP TABLE IF EXISTS table_out;\n",
    "SELECT madlib.mean_perc_error( 'test_set', 'table_out', 'pred', 'obs');\n",
    "SELECT * FROM table_out;"
   ]
  },
  {
   "cell_type": "code",
   "execution_count": null,
   "metadata": {
    "collapsed": false
   },
   "outputs": [],
   "source": [
    "%%sql \n",
    "DROP TABLE IF EXISTS table_out;\n",
    "SELECT madlib.mean_squared_error( 'test_set', 'table_out', 'pred', 'obs');\n",
    "SELECT * FROM table_out;"
   ]
  },
  {
   "cell_type": "code",
   "execution_count": null,
   "metadata": {
    "collapsed": false
   },
   "outputs": [],
   "source": [
    "%%sql\n",
    "DROP TABLE IF EXISTS table_out;\n",
    "SELECT madlib.r2_score( 'test_set', 'table_out', 'pred', 'obs');\n",
    "SELECT * FROM table_out;"
   ]
  },
  {
   "cell_type": "code",
   "execution_count": 39,
   "metadata": {
    "collapsed": false
   },
   "outputs": [
    {
     "name": "stdout",
     "output_type": "stream",
     "text": [
      "Done.\n",
      "1 rows affected.\n",
      "1 rows affected.\n"
     ]
    },
    {
     "data": {
      "text/html": [
       "<table>\n",
       "    <tr>\n",
       "        <th>r2_score</th>\n",
       "        <th>adjusted_r2_score</th>\n",
       "    </tr>\n",
       "    <tr>\n",
       "        <td>0.279929088443</td>\n",
       "        <td>0.257426872457</td>\n",
       "    </tr>\n",
       "</table>"
      ],
      "text/plain": [
       "[(0.279929088443375, 0.257426872457231)]"
      ]
     },
     "execution_count": 39,
     "metadata": {},
     "output_type": "execute_result"
    }
   ],
   "source": [
    "%%sql\n",
    "DROP TABLE IF EXISTS table_out;\n",
    "SELECT madlib.adjusted_r2_score( 'test_set', 'table_out', 'pred', 'obs', 3, 100);\n",
    "SELECT * FROM table_out;"
   ]
  },
  {
   "cell_type": "markdown",
   "metadata": {},
   "source": [
    "## Binary classification"
   ]
  },
  {
   "cell_type": "markdown",
   "metadata": {},
   "source": [
    "Create the sample data for binary classifier metrics:"
   ]
  },
  {
   "cell_type": "code",
   "execution_count": 40,
   "metadata": {
    "collapsed": false
   },
   "outputs": [
    {
     "name": "stdout",
     "output_type": "stream",
     "text": [
      "Done.\n",
      "100 rows affected.\n",
      "100 rows affected.\n"
     ]
    },
    {
     "data": {
      "text/html": [
       "<table>\n",
       "    <tr>\n",
       "        <th>pred</th>\n",
       "        <th>obs</th>\n",
       "    </tr>\n",
       "    <tr>\n",
       "        <td>0.87500000000000000000</td>\n",
       "        <td>True</td>\n",
       "    </tr>\n",
       "    <tr>\n",
       "        <td>0E-20</td>\n",
       "        <td>False</td>\n",
       "    </tr>\n",
       "    <tr>\n",
       "        <td>1.00000000000000000000</td>\n",
       "        <td>True</td>\n",
       "    </tr>\n",
       "    <tr>\n",
       "        <td>0.87500000000000000000</td>\n",
       "        <td>True</td>\n",
       "    </tr>\n",
       "    <tr>\n",
       "        <td>0.87500000000000000000</td>\n",
       "        <td>True</td>\n",
       "    </tr>\n",
       "    <tr>\n",
       "        <td>0.87500000000000000000</td>\n",
       "        <td>True</td>\n",
       "    </tr>\n",
       "    <tr>\n",
       "        <td>1.00000000000000000000</td>\n",
       "        <td>True</td>\n",
       "    </tr>\n",
       "    <tr>\n",
       "        <td>0.25000000000000000000</td>\n",
       "        <td>False</td>\n",
       "    </tr>\n",
       "    <tr>\n",
       "        <td>1.00000000000000000000</td>\n",
       "        <td>True</td>\n",
       "    </tr>\n",
       "    <tr>\n",
       "        <td>0E-20</td>\n",
       "        <td>False</td>\n",
       "    </tr>\n",
       "    <tr>\n",
       "        <td>0.87500000000000000000</td>\n",
       "        <td>True</td>\n",
       "    </tr>\n",
       "    <tr>\n",
       "        <td>0.50000000000000000000</td>\n",
       "        <td>False</td>\n",
       "    </tr>\n",
       "    <tr>\n",
       "        <td>0E-20</td>\n",
       "        <td>False</td>\n",
       "    </tr>\n",
       "    <tr>\n",
       "        <td>0.12500000000000000000</td>\n",
       "        <td>False</td>\n",
       "    </tr>\n",
       "    <tr>\n",
       "        <td>0E-20</td>\n",
       "        <td>False</td>\n",
       "    </tr>\n",
       "    <tr>\n",
       "        <td>0.75000000000000000000</td>\n",
       "        <td>True</td>\n",
       "    </tr>\n",
       "    <tr>\n",
       "        <td>0.25000000000000000000</td>\n",
       "        <td>True</td>\n",
       "    </tr>\n",
       "    <tr>\n",
       "        <td>0.62500000000000000000</td>\n",
       "        <td>False</td>\n",
       "    </tr>\n",
       "    <tr>\n",
       "        <td>0.50000000000000000000</td>\n",
       "        <td>False</td>\n",
       "    </tr>\n",
       "    <tr>\n",
       "        <td>1.00000000000000000000</td>\n",
       "        <td>True</td>\n",
       "    </tr>\n",
       "    <tr>\n",
       "        <td>0E-20</td>\n",
       "        <td>False</td>\n",
       "    </tr>\n",
       "    <tr>\n",
       "        <td>0.87500000000000000000</td>\n",
       "        <td>True</td>\n",
       "    </tr>\n",
       "    <tr>\n",
       "        <td>0.62500000000000000000</td>\n",
       "        <td>False</td>\n",
       "    </tr>\n",
       "    <tr>\n",
       "        <td>0.37500000000000000000</td>\n",
       "        <td>False</td>\n",
       "    </tr>\n",
       "    <tr>\n",
       "        <td>0.12500000000000000000</td>\n",
       "        <td>False</td>\n",
       "    </tr>\n",
       "    <tr>\n",
       "        <td>0.87500000000000000000</td>\n",
       "        <td>True</td>\n",
       "    </tr>\n",
       "    <tr>\n",
       "        <td>0.75000000000000000000</td>\n",
       "        <td>True</td>\n",
       "    </tr>\n",
       "    <tr>\n",
       "        <td>0.37500000000000000000</td>\n",
       "        <td>True</td>\n",
       "    </tr>\n",
       "    <tr>\n",
       "        <td>0.87500000000000000000</td>\n",
       "        <td>True</td>\n",
       "    </tr>\n",
       "    <tr>\n",
       "        <td>0.50000000000000000000</td>\n",
       "        <td>True</td>\n",
       "    </tr>\n",
       "    <tr>\n",
       "        <td>0.87500000000000000000</td>\n",
       "        <td>True</td>\n",
       "    </tr>\n",
       "    <tr>\n",
       "        <td>0.75000000000000000000</td>\n",
       "        <td>False</td>\n",
       "    </tr>\n",
       "    <tr>\n",
       "        <td>1.00000000000000000000</td>\n",
       "        <td>True</td>\n",
       "    </tr>\n",
       "    <tr>\n",
       "        <td>0.50000000000000000000</td>\n",
       "        <td>False</td>\n",
       "    </tr>\n",
       "    <tr>\n",
       "        <td>0.87500000000000000000</td>\n",
       "        <td>True</td>\n",
       "    </tr>\n",
       "    <tr>\n",
       "        <td>0.62500000000000000000</td>\n",
       "        <td>True</td>\n",
       "    </tr>\n",
       "    <tr>\n",
       "        <td>0.37500000000000000000</td>\n",
       "        <td>False</td>\n",
       "    </tr>\n",
       "    <tr>\n",
       "        <td>0.87500000000000000000</td>\n",
       "        <td>True</td>\n",
       "    </tr>\n",
       "    <tr>\n",
       "        <td>0.75000000000000000000</td>\n",
       "        <td>True</td>\n",
       "    </tr>\n",
       "    <tr>\n",
       "        <td>0.62500000000000000000</td>\n",
       "        <td>True</td>\n",
       "    </tr>\n",
       "    <tr>\n",
       "        <td>0.75000000000000000000</td>\n",
       "        <td>True</td>\n",
       "    </tr>\n",
       "    <tr>\n",
       "        <td>0.87500000000000000000</td>\n",
       "        <td>True</td>\n",
       "    </tr>\n",
       "    <tr>\n",
       "        <td>0.75000000000000000000</td>\n",
       "        <td>False</td>\n",
       "    </tr>\n",
       "    <tr>\n",
       "        <td>0.25000000000000000000</td>\n",
       "        <td>False</td>\n",
       "    </tr>\n",
       "    <tr>\n",
       "        <td>0.75000000000000000000</td>\n",
       "        <td>True</td>\n",
       "    </tr>\n",
       "    <tr>\n",
       "        <td>0.50000000000000000000</td>\n",
       "        <td>True</td>\n",
       "    </tr>\n",
       "    <tr>\n",
       "        <td>0.87500000000000000000</td>\n",
       "        <td>True</td>\n",
       "    </tr>\n",
       "    <tr>\n",
       "        <td>0.87500000000000000000</td>\n",
       "        <td>True</td>\n",
       "    </tr>\n",
       "    <tr>\n",
       "        <td>0.62500000000000000000</td>\n",
       "        <td>False</td>\n",
       "    </tr>\n",
       "    <tr>\n",
       "        <td>0.25000000000000000000</td>\n",
       "        <td>False</td>\n",
       "    </tr>\n",
       "    <tr>\n",
       "        <td>0.75000000000000000000</td>\n",
       "        <td>True</td>\n",
       "    </tr>\n",
       "    <tr>\n",
       "        <td>0.37500000000000000000</td>\n",
       "        <td>False</td>\n",
       "    </tr>\n",
       "    <tr>\n",
       "        <td>0.50000000000000000000</td>\n",
       "        <td>False</td>\n",
       "    </tr>\n",
       "    <tr>\n",
       "        <td>0.12500000000000000000</td>\n",
       "        <td>False</td>\n",
       "    </tr>\n",
       "    <tr>\n",
       "        <td>0.50000000000000000000</td>\n",
       "        <td>True</td>\n",
       "    </tr>\n",
       "    <tr>\n",
       "        <td>0.25000000000000000000</td>\n",
       "        <td>False</td>\n",
       "    </tr>\n",
       "    <tr>\n",
       "        <td>0.12500000000000000000</td>\n",
       "        <td>False</td>\n",
       "    </tr>\n",
       "    <tr>\n",
       "        <td>0.62500000000000000000</td>\n",
       "        <td>True</td>\n",
       "    </tr>\n",
       "    <tr>\n",
       "        <td>0.37500000000000000000</td>\n",
       "        <td>True</td>\n",
       "    </tr>\n",
       "    <tr>\n",
       "        <td>0.50000000000000000000</td>\n",
       "        <td>False</td>\n",
       "    </tr>\n",
       "    <tr>\n",
       "        <td>0.62500000000000000000</td>\n",
       "        <td>True</td>\n",
       "    </tr>\n",
       "    <tr>\n",
       "        <td>0.75000000000000000000</td>\n",
       "        <td>True</td>\n",
       "    </tr>\n",
       "    <tr>\n",
       "        <td>0.12500000000000000000</td>\n",
       "        <td>False</td>\n",
       "    </tr>\n",
       "    <tr>\n",
       "        <td>0.50000000000000000000</td>\n",
       "        <td>True</td>\n",
       "    </tr>\n",
       "    <tr>\n",
       "        <td>1.00000000000000000000</td>\n",
       "        <td>True</td>\n",
       "    </tr>\n",
       "    <tr>\n",
       "        <td>0.25000000000000000000</td>\n",
       "        <td>False</td>\n",
       "    </tr>\n",
       "    <tr>\n",
       "        <td>0.62500000000000000000</td>\n",
       "        <td>True</td>\n",
       "    </tr>\n",
       "    <tr>\n",
       "        <td>0.87500000000000000000</td>\n",
       "        <td>True</td>\n",
       "    </tr>\n",
       "    <tr>\n",
       "        <td>0.87500000000000000000</td>\n",
       "        <td>False</td>\n",
       "    </tr>\n",
       "    <tr>\n",
       "        <td>0.50000000000000000000</td>\n",
       "        <td>False</td>\n",
       "    </tr>\n",
       "    <tr>\n",
       "        <td>0.75000000000000000000</td>\n",
       "        <td>True</td>\n",
       "    </tr>\n",
       "    <tr>\n",
       "        <td>0.62500000000000000000</td>\n",
       "        <td>True</td>\n",
       "    </tr>\n",
       "    <tr>\n",
       "        <td>0.75000000000000000000</td>\n",
       "        <td>True</td>\n",
       "    </tr>\n",
       "    <tr>\n",
       "        <td>0.75000000000000000000</td>\n",
       "        <td>False</td>\n",
       "    </tr>\n",
       "    <tr>\n",
       "        <td>0.12500000000000000000</td>\n",
       "        <td>False</td>\n",
       "    </tr>\n",
       "    <tr>\n",
       "        <td>0.25000000000000000000</td>\n",
       "        <td>True</td>\n",
       "    </tr>\n",
       "    <tr>\n",
       "        <td>0.12500000000000000000</td>\n",
       "        <td>False</td>\n",
       "    </tr>\n",
       "    <tr>\n",
       "        <td>0.50000000000000000000</td>\n",
       "        <td>False</td>\n",
       "    </tr>\n",
       "    <tr>\n",
       "        <td>0.62500000000000000000</td>\n",
       "        <td>True</td>\n",
       "    </tr>\n",
       "    <tr>\n",
       "        <td>0.12500000000000000000</td>\n",
       "        <td>False</td>\n",
       "    </tr>\n",
       "    <tr>\n",
       "        <td>0.62500000000000000000</td>\n",
       "        <td>False</td>\n",
       "    </tr>\n",
       "    <tr>\n",
       "        <td>0.37500000000000000000</td>\n",
       "        <td>False</td>\n",
       "    </tr>\n",
       "    <tr>\n",
       "        <td>0.87500000000000000000</td>\n",
       "        <td>True</td>\n",
       "    </tr>\n",
       "    <tr>\n",
       "        <td>0.50000000000000000000</td>\n",
       "        <td>True</td>\n",
       "    </tr>\n",
       "    <tr>\n",
       "        <td>0.25000000000000000000</td>\n",
       "        <td>False</td>\n",
       "    </tr>\n",
       "    <tr>\n",
       "        <td>0E-20</td>\n",
       "        <td>False</td>\n",
       "    </tr>\n",
       "    <tr>\n",
       "        <td>0.75000000000000000000</td>\n",
       "        <td>True</td>\n",
       "    </tr>\n",
       "    <tr>\n",
       "        <td>0.87500000000000000000</td>\n",
       "        <td>True</td>\n",
       "    </tr>\n",
       "    <tr>\n",
       "        <td>0.87500000000000000000</td>\n",
       "        <td>True</td>\n",
       "    </tr>\n",
       "    <tr>\n",
       "        <td>0.75000000000000000000</td>\n",
       "        <td>False</td>\n",
       "    </tr>\n",
       "    <tr>\n",
       "        <td>0.87500000000000000000</td>\n",
       "        <td>True</td>\n",
       "    </tr>\n",
       "    <tr>\n",
       "        <td>0.87500000000000000000</td>\n",
       "        <td>False</td>\n",
       "    </tr>\n",
       "    <tr>\n",
       "        <td>0E-20</td>\n",
       "        <td>False</td>\n",
       "    </tr>\n",
       "    <tr>\n",
       "        <td>0.37500000000000000000</td>\n",
       "        <td>True</td>\n",
       "    </tr>\n",
       "    <tr>\n",
       "        <td>0.25000000000000000000</td>\n",
       "        <td>False</td>\n",
       "    </tr>\n",
       "    <tr>\n",
       "        <td>0.37500000000000000000</td>\n",
       "        <td>True</td>\n",
       "    </tr>\n",
       "    <tr>\n",
       "        <td>0.87500000000000000000</td>\n",
       "        <td>True</td>\n",
       "    </tr>\n",
       "    <tr>\n",
       "        <td>0.25000000000000000000</td>\n",
       "        <td>False</td>\n",
       "    </tr>\n",
       "    <tr>\n",
       "        <td>1.00000000000000000000</td>\n",
       "        <td>True</td>\n",
       "    </tr>\n",
       "    <tr>\n",
       "        <td>0.50000000000000000000</td>\n",
       "        <td>False</td>\n",
       "    </tr>\n",
       "</table>"
      ],
      "text/plain": [
       "[(Decimal('0.87500000000000000000'), True),\n",
       " (Decimal('0E-20'), False),\n",
       " (Decimal('1.00000000000000000000'), True),\n",
       " (Decimal('0.87500000000000000000'), True),\n",
       " (Decimal('0.87500000000000000000'), True),\n",
       " (Decimal('0.87500000000000000000'), True),\n",
       " (Decimal('1.00000000000000000000'), True),\n",
       " (Decimal('0.25000000000000000000'), False),\n",
       " (Decimal('1.00000000000000000000'), True),\n",
       " (Decimal('0E-20'), False),\n",
       " (Decimal('0.87500000000000000000'), True),\n",
       " (Decimal('0.50000000000000000000'), False),\n",
       " (Decimal('0E-20'), False),\n",
       " (Decimal('0.12500000000000000000'), False),\n",
       " (Decimal('0E-20'), False),\n",
       " (Decimal('0.75000000000000000000'), True),\n",
       " (Decimal('0.25000000000000000000'), True),\n",
       " (Decimal('0.62500000000000000000'), False),\n",
       " (Decimal('0.50000000000000000000'), False),\n",
       " (Decimal('1.00000000000000000000'), True),\n",
       " (Decimal('0E-20'), False),\n",
       " (Decimal('0.87500000000000000000'), True),\n",
       " (Decimal('0.62500000000000000000'), False),\n",
       " (Decimal('0.37500000000000000000'), False),\n",
       " (Decimal('0.12500000000000000000'), False),\n",
       " (Decimal('0.87500000000000000000'), True),\n",
       " (Decimal('0.75000000000000000000'), True),\n",
       " (Decimal('0.37500000000000000000'), True),\n",
       " (Decimal('0.87500000000000000000'), True),\n",
       " (Decimal('0.50000000000000000000'), True),\n",
       " (Decimal('0.87500000000000000000'), True),\n",
       " (Decimal('0.75000000000000000000'), False),\n",
       " (Decimal('1.00000000000000000000'), True),\n",
       " (Decimal('0.50000000000000000000'), False),\n",
       " (Decimal('0.87500000000000000000'), True),\n",
       " (Decimal('0.62500000000000000000'), True),\n",
       " (Decimal('0.37500000000000000000'), False),\n",
       " (Decimal('0.87500000000000000000'), True),\n",
       " (Decimal('0.75000000000000000000'), True),\n",
       " (Decimal('0.62500000000000000000'), True),\n",
       " (Decimal('0.75000000000000000000'), True),\n",
       " (Decimal('0.87500000000000000000'), True),\n",
       " (Decimal('0.75000000000000000000'), False),\n",
       " (Decimal('0.25000000000000000000'), False),\n",
       " (Decimal('0.75000000000000000000'), True),\n",
       " (Decimal('0.50000000000000000000'), True),\n",
       " (Decimal('0.87500000000000000000'), True),\n",
       " (Decimal('0.87500000000000000000'), True),\n",
       " (Decimal('0.62500000000000000000'), False),\n",
       " (Decimal('0.25000000000000000000'), False),\n",
       " (Decimal('0.75000000000000000000'), True),\n",
       " (Decimal('0.37500000000000000000'), False),\n",
       " (Decimal('0.50000000000000000000'), False),\n",
       " (Decimal('0.12500000000000000000'), False),\n",
       " (Decimal('0.50000000000000000000'), True),\n",
       " (Decimal('0.25000000000000000000'), False),\n",
       " (Decimal('0.12500000000000000000'), False),\n",
       " (Decimal('0.62500000000000000000'), True),\n",
       " (Decimal('0.37500000000000000000'), True),\n",
       " (Decimal('0.50000000000000000000'), False),\n",
       " (Decimal('0.62500000000000000000'), True),\n",
       " (Decimal('0.75000000000000000000'), True),\n",
       " (Decimal('0.12500000000000000000'), False),\n",
       " (Decimal('0.50000000000000000000'), True),\n",
       " (Decimal('1.00000000000000000000'), True),\n",
       " (Decimal('0.25000000000000000000'), False),\n",
       " (Decimal('0.62500000000000000000'), True),\n",
       " (Decimal('0.87500000000000000000'), True),\n",
       " (Decimal('0.87500000000000000000'), False),\n",
       " (Decimal('0.50000000000000000000'), False),\n",
       " (Decimal('0.75000000000000000000'), True),\n",
       " (Decimal('0.62500000000000000000'), True),\n",
       " (Decimal('0.75000000000000000000'), True),\n",
       " (Decimal('0.75000000000000000000'), False),\n",
       " (Decimal('0.12500000000000000000'), False),\n",
       " (Decimal('0.25000000000000000000'), True),\n",
       " (Decimal('0.12500000000000000000'), False),\n",
       " (Decimal('0.50000000000000000000'), False),\n",
       " (Decimal('0.62500000000000000000'), True),\n",
       " (Decimal('0.12500000000000000000'), False),\n",
       " (Decimal('0.62500000000000000000'), False),\n",
       " (Decimal('0.37500000000000000000'), False),\n",
       " (Decimal('0.87500000000000000000'), True),\n",
       " (Decimal('0.50000000000000000000'), True),\n",
       " (Decimal('0.25000000000000000000'), False),\n",
       " (Decimal('0E-20'), False),\n",
       " (Decimal('0.75000000000000000000'), True),\n",
       " (Decimal('0.87500000000000000000'), True),\n",
       " (Decimal('0.87500000000000000000'), True),\n",
       " (Decimal('0.75000000000000000000'), False),\n",
       " (Decimal('0.87500000000000000000'), True),\n",
       " (Decimal('0.87500000000000000000'), False),\n",
       " (Decimal('0E-20'), False),\n",
       " (Decimal('0.37500000000000000000'), True),\n",
       " (Decimal('0.25000000000000000000'), False),\n",
       " (Decimal('0.37500000000000000000'), True),\n",
       " (Decimal('0.87500000000000000000'), True),\n",
       " (Decimal('0.25000000000000000000'), False),\n",
       " (Decimal('1.00000000000000000000'), True),\n",
       " (Decimal('0.50000000000000000000'), False)]"
      ]
     },
     "execution_count": 40,
     "metadata": {},
     "output_type": "execute_result"
    }
   ],
   "source": [
    "%%sql\n",
    "DROP TABLE IF EXISTS test_set;\n",
    "CREATE TABLE test_set AS\n",
    "    SELECT ((a*8)::integer)/8.0 pred,   -- prediction probability TRUE\n",
    "        ((a*0.5+random()*0.5)>0.5) obs  -- actual observations\n",
    "    FROM (select random() as a from generate_series(1,100)) x;\n",
    "SELECT * FROM test_set;"
   ]
  },
  {
   "cell_type": "markdown",
   "metadata": {},
   "source": [
    "Run the Binary Classifier metrics function and View the True Positive Rate and the False Positive Rate:"
   ]
  },
  {
   "cell_type": "code",
   "execution_count": 41,
   "metadata": {
    "collapsed": false
   },
   "outputs": [
    {
     "name": "stdout",
     "output_type": "stream",
     "text": [
      "Done.\n",
      "1 rows affected.\n",
      "9 rows affected.\n"
     ]
    },
    {
     "data": {
      "text/html": [
       "<table>\n",
       "    <tr>\n",
       "        <th>threshold</th>\n",
       "        <th>tpr</th>\n",
       "        <th>fpr</th>\n",
       "    </tr>\n",
       "    <tr>\n",
       "        <td>0E-20</td>\n",
       "        <td>1.0</td>\n",
       "        <td>1.0</td>\n",
       "    </tr>\n",
       "    <tr>\n",
       "        <td>0.12500000000000000000</td>\n",
       "        <td>1.0</td>\n",
       "        <td>0.844444444444</td>\n",
       "    </tr>\n",
       "    <tr>\n",
       "        <td>0.25000000000000000000</td>\n",
       "        <td>1.0</td>\n",
       "        <td>0.666666666667</td>\n",
       "    </tr>\n",
       "    <tr>\n",
       "        <td>0.37500000000000000000</td>\n",
       "        <td>0.963636363636</td>\n",
       "        <td>0.488888888889</td>\n",
       "    </tr>\n",
       "    <tr>\n",
       "        <td>0.50000000000000000000</td>\n",
       "        <td>0.890909090909</td>\n",
       "        <td>0.4</td>\n",
       "    </tr>\n",
       "    <tr>\n",
       "        <td>0.62500000000000000000</td>\n",
       "        <td>0.8</td>\n",
       "        <td>0.222222222222</td>\n",
       "    </tr>\n",
       "    <tr>\n",
       "        <td>0.75000000000000000000</td>\n",
       "        <td>0.672727272727</td>\n",
       "        <td>0.133333333333</td>\n",
       "    </tr>\n",
       "    <tr>\n",
       "        <td>0.87500000000000000000</td>\n",
       "        <td>0.490909090909</td>\n",
       "        <td>0.0444444444444</td>\n",
       "    </tr>\n",
       "    <tr>\n",
       "        <td>1.00000000000000000000</td>\n",
       "        <td>0.127272727273</td>\n",
       "        <td>0.0</td>\n",
       "    </tr>\n",
       "</table>"
      ],
      "text/plain": [
       "[(Decimal('0E-20'), 1.0, 1.0),\n",
       " (Decimal('0.12500000000000000000'), 1.0, 0.844444444444444),\n",
       " (Decimal('0.25000000000000000000'), 1.0, 0.666666666666667),\n",
       " (Decimal('0.37500000000000000000'), 0.963636363636364, 0.488888888888889),\n",
       " (Decimal('0.50000000000000000000'), 0.890909090909091, 0.4),\n",
       " (Decimal('0.62500000000000000000'), 0.8, 0.222222222222222),\n",
       " (Decimal('0.75000000000000000000'), 0.672727272727273, 0.133333333333333),\n",
       " (Decimal('0.87500000000000000000'), 0.490909090909091, 0.0444444444444444),\n",
       " (Decimal('1.00000000000000000000'), 0.127272727272727, 0.0)]"
      ]
     },
     "execution_count": 41,
     "metadata": {},
     "output_type": "execute_result"
    }
   ],
   "source": [
    "%%sql\n",
    "DROP TABLE IF EXISTS table_out;\n",
    "SELECT madlib.binary_classifier( 'test_set', 'table_out', 'pred', 'obs');\n",
    "SELECT threshold, tpr, fpr FROM table_out ORDER BY threshold;"
   ]
  },
  {
   "cell_type": "markdown",
   "metadata": {},
   "source": [
    "View all metrics at a given threshold value:"
   ]
  },
  {
   "cell_type": "code",
   "execution_count": null,
   "metadata": {
    "collapsed": false
   },
   "outputs": [],
   "source": [
    "%%sql\n",
    "SELECT * FROM table_out WHERE threshold=0.5;"
   ]
  },
  {
   "cell_type": "markdown",
   "metadata": {},
   "source": [
    "Run the Area Under ROC curve function:"
   ]
  },
  {
   "cell_type": "code",
   "execution_count": 42,
   "metadata": {
    "collapsed": false
   },
   "outputs": [
    {
     "name": "stdout",
     "output_type": "stream",
     "text": [
      "Done.\n",
      "1 rows affected.\n",
      "1 rows affected.\n"
     ]
    },
    {
     "data": {
      "text/html": [
       "<table>\n",
       "    <tr>\n",
       "        <th>area_under_roc</th>\n",
       "    </tr>\n",
       "    <tr>\n",
       "        <td>0.87151515151515151515251515151515151515150</td>\n",
       "    </tr>\n",
       "</table>"
      ],
      "text/plain": [
       "[(Decimal('0.87151515151515151515251515151515151515150'),)]"
      ]
     },
     "execution_count": 42,
     "metadata": {},
     "output_type": "execute_result"
    }
   ],
   "source": [
    "%%sql\n",
    "DROP TABLE IF EXISTS table_out;\n",
    "SELECT madlib.area_under_roc( 'test_set', 'table_out', 'pred', 'obs');\n",
    "SELECT * FROM table_out;"
   ]
  },
  {
   "cell_type": "markdown",
   "metadata": {},
   "source": [
    "## Multi-class classification"
   ]
  },
  {
   "cell_type": "markdown",
   "metadata": {},
   "source": [
    "Create the sample data for confusion matrix."
   ]
  },
  {
   "cell_type": "code",
   "execution_count": null,
   "metadata": {
    "collapsed": false
   },
   "outputs": [],
   "source": [
    "%%sql\n",
    "DROP TABLE IF EXISTS test_set;\n",
    "CREATE TABLE test_set AS\n",
    "    SELECT (x+y)%5+1 AS pred,\n",
    "        (x*y)%5 AS obs\n",
    "    FROM generate_series(1,5) x,\n",
    "        generate_series(1,5) y;\n",
    "SELECT * FROM test_set;"
   ]
  },
  {
   "cell_type": "code",
   "execution_count": null,
   "metadata": {
    "collapsed": false
   },
   "outputs": [],
   "source": [
    "%%sql\n",
    "DROP TABLE IF EXISTS table_out;\n",
    "SELECT madlib.confusion_matrix( 'test_set', 'table_out', 'pred', 'obs');\n",
    "SELECT * FROM table_out ORDER BY class;"
   ]
  }
 ],
 "metadata": {
  "kernelspec": {
   "display_name": "Python 2",
   "language": "python",
   "name": "python2"
  },
  "language_info": {
   "codemirror_mode": {
    "name": "ipython",
    "version": 2
   },
   "file_extension": ".py",
   "mimetype": "text/x-python",
   "name": "python",
   "nbconvert_exporter": "python",
   "pygments_lexer": "ipython2",
   "version": "2.7.11"
  }
 },
 "nbformat": 4,
 "nbformat_minor": 0
}

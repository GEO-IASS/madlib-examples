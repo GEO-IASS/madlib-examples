{
 "cells": [
  {
   "cell_type": "markdown",
   "metadata": {},
   "source": [
    "# Novelty detection using 1-class SVM\n",
    "\n",
    "Classifies new data as similar or different to the training set.  This method is an unsupervised method that builds a decision boundary between the data and origin in kernel space and can be used as a novelty detector."
   ]
  },
  {
   "cell_type": "code",
   "execution_count": 38,
   "metadata": {
    "collapsed": false
   },
   "outputs": [
    {
     "name": "stdout",
     "output_type": "stream",
     "text": [
      "The sql extension is already loaded. To reload it, use:\n",
      "  %reload_ext sql\n"
     ]
    }
   ],
   "source": [
    "# Setup\n",
    "%load_ext sql\n",
    "# %sql postgresql://gpdbchina@10.194.10.68:55000/madlib\n",
    "%sql postgresql://fmcquillan@localhost:5432/madlib\n",
    "%matplotlib inline\n",
    "\n",
    "import pandas as pd\n",
    "import numpy as np\n",
    "import matplotlib.pyplot as plt\n",
    "import matplotlib.font_manager"
   ]
  },
  {
   "cell_type": "code",
   "execution_count": 39,
   "metadata": {
    "collapsed": false
   },
   "outputs": [
    {
     "data": {
      "image/png": "[encoded data removed]",
      "text/plain": [
       "<matplotlib.figure.Figure at 0x10b816e50>"
      ]
     },
     "metadata": {},
     "output_type": "display_data"
    }
   ],
   "source": [
    "# Generate train data\n",
    "X = 0.3 * np.random.randn(100, 2)\n",
    "X_train = np.r_[X + 2, X - 2]\n",
    "X_train_D = pd.DataFrame(X_train, columns=['x1', 'x2'])\n",
    "\n",
    "# Generate some abnormal novel observations\n",
    "X_outliers = np.random.uniform(low=-7, high=7, size=(40, 2))\n",
    "X_outliers_D = pd.DataFrame(X_outliers, columns=['x1', 'x2'])\n",
    "\n",
    "b = plt.scatter(X_train[:, 0], X_train[:, 1], c='blue')\n",
    "c = plt.scatter(X_outliers[:, 0], X_outliers[:, 1], c='red')\n",
    "plt.axis('tight')\n",
    "plt.xlim((-5, 5))\n",
    "plt.ylim((-5, 5))\n",
    "plt.show()"
   ]
  },
  {
   "cell_type": "code",
   "execution_count": 40,
   "metadata": {
    "collapsed": false
   },
   "outputs": [
    {
     "name": "stdout",
     "output_type": "stream",
     "text": [
      "Done.\n",
      "Done.\n",
      "200 rows affected.\n",
      "Done.\n",
      "Done.\n",
      "40 rows affected.\n"
     ]
    },
    {
     "data": {
      "text/plain": [
       "[]"
      ]
     },
     "execution_count": 40,
     "metadata": {},
     "output_type": "execute_result"
    }
   ],
   "source": [
    "# Build tables\n",
    "%sql DROP TABLE IF EXISTS X_train_D CASCADE\n",
    "%sql PERSIST X_train_D\n",
    "%sql ALTER TABLE X_train_D add column X float[]\n",
    "%sql update X_train_D set X = array[x1, x2]::float[]\n",
    "\n",
    "%sql DROP TABLE IF EXISTS X_outliers_D CASCADE\n",
    "%sql PERSIST X_outliers_D\n",
    "%sql ALTER TABLE X_outliers_D add column X float[]\n",
    "%sql update X_outliers_D set X = array[x1, x2]::float[]"
   ]
  },
  {
   "cell_type": "code",
   "execution_count": 41,
   "metadata": {
    "collapsed": false
   },
   "outputs": [
    {
     "name": "stdout",
     "output_type": "stream",
     "text": [
      "Done.\n",
      "1 rows affected.\n",
      "1 rows affected.\n"
     ]
    },
    {
     "data": {
      "text/html": [
       "<table>\n",
       "    <tr>\n",
       "        <th>coef</th>\n",
       "        <th>loss</th>\n",
       "        <th>norm_of_gradient</th>\n",
       "        <th>num_iterations</th>\n",
       "        <th>num_rows_processed</th>\n",
       "        <th>num_rows_skipped</th>\n",
       "        <th>dep_var_mapping</th>\n",
       "    </tr>\n",
       "    <tr>\n",
       "        <td>[-0.0464306799936, -0.140449420067, -0.764612793969, 0.0561685540245, -0.252354327958, 0.0495049204882, 0.391554812087, -0.703309532619, 0.368742803259, -0.930454424768, 0.491168162198, -0.0386557437811, -0.140089009113, -0.069960677275, -0.0591263658714, -0.739785078271, -0.0294268532071, -0.908443499292, -0.670068256829, -0.585115814628, -0.127288150455, -0.132263939273, -0.63193927756, -0.267746761158, -0.308319881721, -0.112196082983, 0.314925255979, 0.489853397793, 0.558233085441, -0.317663291248, -0.0283645416631, 0.351683891295, 0.0420027146589, 0.598375924694, 0.440495824996, 0.32693078572, 0.0826075162544, -0.0926654621441, -0.608400366479, -0.103107469427, 0.625755815962, 0.111294051421, 0.503191159649, 0.561639019968, 0.146793229579, 0.343509390648, -0.0539117933362, 0.111156536713, 0.696593342258, 0.749628460803, -0.245320818382, -0.126394405676, 0.330116990245, -0.292737229582, -0.471647870958, -1.00004273785]</td>\n",
       "        <td>81.1574633093</td>\n",
       "        <td>113.632707563</td>\n",
       "        <td>100</td>\n",
       "        <td>201</td>\n",
       "        <td>-1</td>\n",
       "        <td>[-1.0, 1.0]</td>\n",
       "    </tr>\n",
       "</table>"
      ],
      "text/plain": [
       "[([-0.0464306799936, -0.140449420067, -0.764612793969, 0.0561685540245, -0.252354327958, 0.0495049204882, 0.391554812087, -0.703309532619, 0.368742803259, -0.930454424768, 0.491168162198, -0.0386557437811, -0.140089009113, -0.069960677275, -0.0591263658714, -0.739785078271, -0.0294268532071, -0.908443499292, -0.670068256829, -0.585115814628, -0.127288150455, -0.132263939273, -0.63193927756, -0.267746761158, -0.308319881721, -0.112196082983, 0.314925255979, 0.489853397793, 0.558233085441, -0.317663291248, -0.0283645416631, 0.351683891295, 0.0420027146589, 0.598375924694, 0.440495824996, 0.32693078572, 0.0826075162544, -0.0926654621441, -0.608400366479, -0.103107469427, 0.625755815962, 0.111294051421, 0.503191159649, 0.561639019968, 0.146793229579, 0.343509390648, -0.0539117933362, 0.111156536713, 0.696593342258, 0.749628460803, -0.245320818382, -0.126394405676, 0.330116990245, -0.292737229582, -0.471647870958, -1.00004273785], 81.1574633093, 113.632707563429, 100, 201L, -1L, [-1.0, 1.0])]"
      ]
     },
     "execution_count": 41,
     "metadata": {},
     "output_type": "execute_result"
    }
   ],
   "source": [
    "%%sql \n",
    "-- Train the model\n",
    "DROP TABLE IF EXISTS svm_out1, svm_out1_summary, svm_out1_random CASCADE;\n",
    "SELECT madlib.svm_one_class(\n",
    "    'X_train_D',    -- source table\n",
    "    'svm_out1',     -- output table\n",
    "    'X',            -- features\n",
    "    'gaussian',     -- kernel\n",
    "    'gamma=1, n_components=55, random_state=3', \n",
    "    NULL,           -- grouping \n",
    "    'init_stepsize=0.1, lambda=10, max_iter=100, tolerance=0'  \n",
    "    );\n",
    "SELECT * FROM svm_out1; "
   ]
  },
  {
   "cell_type": "code",
   "execution_count": 43,
   "metadata": {
    "collapsed": false
   },
   "outputs": [
    {
     "name": "stdout",
     "output_type": "stream",
     "text": [
      "Done.\n",
      "1 rows affected.\n",
      "200 rows affected.\n",
      "Done.\n",
      "1 rows affected.\n",
      "40 rows affected.\n",
      "20 rows affected.\n"
     ]
    },
    {
     "data": {
      "text/html": [
       "<table>\n",
       "    <tr>\n",
       "        <th>index</th>\n",
       "        <th>prediction</th>\n",
       "        <th>decision_function</th>\n",
       "    </tr>\n",
       "    <tr>\n",
       "        <td>0</td>\n",
       "        <td>-1.0</td>\n",
       "        <td>-1.4388730148</td>\n",
       "    </tr>\n",
       "    <tr>\n",
       "        <td>1</td>\n",
       "        <td>-1.0</td>\n",
       "        <td>-0.724957901147</td>\n",
       "    </tr>\n",
       "    <tr>\n",
       "        <td>2</td>\n",
       "        <td>-1.0</td>\n",
       "        <td>-0.372905109874</td>\n",
       "    </tr>\n",
       "    <tr>\n",
       "        <td>3</td>\n",
       "        <td>-1.0</td>\n",
       "        <td>-1.22121754272</td>\n",
       "    </tr>\n",
       "    <tr>\n",
       "        <td>4</td>\n",
       "        <td>-1.0</td>\n",
       "        <td>-0.192345798702</td>\n",
       "    </tr>\n",
       "    <tr>\n",
       "        <td>5</td>\n",
       "        <td>-1.0</td>\n",
       "        <td>-1.07810614716</td>\n",
       "    </tr>\n",
       "    <tr>\n",
       "        <td>6</td>\n",
       "        <td>-1.0</td>\n",
       "        <td>-0.290357395599</td>\n",
       "    </tr>\n",
       "    <tr>\n",
       "        <td>7</td>\n",
       "        <td>-1.0</td>\n",
       "        <td>-1.45117129021</td>\n",
       "    </tr>\n",
       "    <tr>\n",
       "        <td>8</td>\n",
       "        <td>-1.0</td>\n",
       "        <td>-1.82642387932</td>\n",
       "    </tr>\n",
       "    <tr>\n",
       "        <td>9</td>\n",
       "        <td>-1.0</td>\n",
       "        <td>-0.843193638379</td>\n",
       "    </tr>\n",
       "    <tr>\n",
       "        <td>10</td>\n",
       "        <td>-1.0</td>\n",
       "        <td>-1.02880031223</td>\n",
       "    </tr>\n",
       "    <tr>\n",
       "        <td>11</td>\n",
       "        <td>-1.0</td>\n",
       "        <td>-1.87290888498</td>\n",
       "    </tr>\n",
       "    <tr>\n",
       "        <td>12</td>\n",
       "        <td>-1.0</td>\n",
       "        <td>-1.01253395305</td>\n",
       "    </tr>\n",
       "    <tr>\n",
       "        <td>13</td>\n",
       "        <td>-1.0</td>\n",
       "        <td>-1.69237718475</td>\n",
       "    </tr>\n",
       "    <tr>\n",
       "        <td>14</td>\n",
       "        <td>-1.0</td>\n",
       "        <td>-1.22062554442</td>\n",
       "    </tr>\n",
       "    <tr>\n",
       "        <td>15</td>\n",
       "        <td>-1.0</td>\n",
       "        <td>-1.35157679945</td>\n",
       "    </tr>\n",
       "    <tr>\n",
       "        <td>16</td>\n",
       "        <td>-1.0</td>\n",
       "        <td>-0.167893081095</td>\n",
       "    </tr>\n",
       "    <tr>\n",
       "        <td>17</td>\n",
       "        <td>-1.0</td>\n",
       "        <td>-1.26814530164</td>\n",
       "    </tr>\n",
       "    <tr>\n",
       "        <td>18</td>\n",
       "        <td>-1.0</td>\n",
       "        <td>-0.383226373509</td>\n",
       "    </tr>\n",
       "    <tr>\n",
       "        <td>19</td>\n",
       "        <td>-1.0</td>\n",
       "        <td>-0.141301479149</td>\n",
       "    </tr>\n",
       "</table>"
      ],
      "text/plain": [
       "[(0L, -1.0, -1.43887301479805),\n",
       " (1L, -1.0, -0.72495790114706),\n",
       " (2L, -1.0, -0.37290510987412),\n",
       " (3L, -1.0, -1.22121754272181),\n",
       " (4L, -1.0, -0.192345798702072),\n",
       " (5L, -1.0, -1.07810614716247),\n",
       " (6L, -1.0, -0.290357395599303),\n",
       " (7L, -1.0, -1.45117129021133),\n",
       " (8L, -1.0, -1.82642387931822),\n",
       " (9L, -1.0, -0.843193638379169),\n",
       " (10L, -1.0, -1.02880031222701),\n",
       " (11L, -1.0, -1.87290888498011),\n",
       " (12L, -1.0, -1.01253395305403),\n",
       " (13L, -1.0, -1.69237718475158),\n",
       " (14L, -1.0, -1.22062554442405),\n",
       " (15L, -1.0, -1.35157679944793),\n",
       " (16L, -1.0, -0.167893081095336),\n",
       " (17L, -1.0, -1.26814530164192),\n",
       " (18L, -1.0, -0.383226373508858),\n",
       " (19L, -1.0, -0.141301479149212)]"
      ]
     },
     "execution_count": 43,
     "metadata": {},
     "output_type": "execute_result"
    }
   ],
   "source": [
    "# Prediction\n",
    "# First for the training data\n",
    "%sql drop table if exists y_pred_train;\n",
    "%sql SELECT madlib.svm_predict('svm_out1', 'X_train_D', 'index', 'y_pred_train');\n",
    "y_pred_train = %sql SELECT * from y_pred_train; \n",
    "\n",
    "# Next for the outliers\n",
    "%sql drop table if exists y_pred_outliers;\n",
    "%sql SELECT madlib.svm_predict('svm_out1', 'X_outliers_D', 'index', 'y_pred_outliers');\n",
    "y_pred_outliers = %sql SELECT * from y_pred_outliers; \n",
    "\n",
    "%sql SELECT * FROM y_pred_outliers limit 20; -- Show the outliers\n",
    "#%sql SELECT * FROM y_pred_train limit 20; -- Show the training data"
   ]
  },
  {
   "cell_type": "code",
   "execution_count": 44,
   "metadata": {
    "collapsed": false
   },
   "outputs": [
    {
     "name": "stdout",
     "output_type": "stream",
     "text": [
      "Done.\n",
      "Done.\n",
      "10000 rows affected.\n"
     ]
    },
    {
     "data": {
      "text/plain": [
       "[]"
      ]
     },
     "execution_count": 44,
     "metadata": {},
     "output_type": "execute_result"
    }
   ],
   "source": [
    "# Predict over the decision grid for plotting\n",
    "# xx, yy = np.meshgrid(np.linspace(-7, 7, 500), np.linspace(-7, 7, 500))\n",
    "xx, yy = np.meshgrid(np.linspace(-7, 7, 100), np.linspace(-7, 7, 100))\n",
    "grid_points = pd.DataFrame(np.c_[xx.ravel(), yy.ravel()], columns=['x1', 'x2'])\n",
    "\n",
    "%sql DROP TABLE IF EXISTS grid_points CASCADE\n",
    "%sql PERSIST grid_points\n",
    "%sql ALTER TABLE grid_points add column X float[]\n",
    "%sql update grid_points set X = array[x1, x2]::float[]"
   ]
  },
  {
   "cell_type": "code",
   "execution_count": 47,
   "metadata": {
    "collapsed": false
   },
   "outputs": [
    {
     "name": "stdout",
     "output_type": "stream",
     "text": [
      "Done.\n",
      "1 rows affected.\n",
      "10000 rows affected.\n"
     ]
    },
    {
     "data": {
      "image/png": "[encoded data removed]",
      "text/plain": [
       "<matplotlib.figure.Figure at 0x10b509310>"
      ]
     },
     "metadata": {},
     "output_type": "display_data"
    }
   ],
   "source": [
    "# Plot the decision grid\n",
    "%sql drop table if exists Z_D;\n",
    "%sql SELECT madlib.svm_predict('svm_out1', 'grid_points', 'index', 'Z_D');\n",
    "Z_D = %sql SELECT decision_function from Z_D order by index\n",
    "Z = np.array(Z_D)\n",
    "Z = Z.reshape(xx.shape)\n",
    "\n",
    "# Orange is not novel, green is novel\n",
    "plt.title(\"Novelty Detection\")\n",
    "plt.contourf(xx, yy, Z, levels=[0, Z.max()], colors='orange')\n",
    "plt.contourf(xx, yy, Z, levels=[Z.min(), 0], colors='green')\n",
    "#plt.contourf(xx, yy, Z, levels=np.linspace(Z.min(), Z.max(), 7), cmap=plt.cm.Blues_r)\n",
    "b1 = plt.scatter(X_train[:, 0], X_train[:, 1], c='blue')\n",
    "c = plt.scatter(X_outliers[:, 0], X_outliers[:, 1], c='red')\n",
    "plt.axis('tight')\n",
    "plt.xlim((-5, 5))\n",
    "plt.ylim((-5, 5))\n",
    "plt.show()"
   ]
  },
  {
   "cell_type": "code",
   "execution_count": null,
   "metadata": {
    "collapsed": true
   },
   "outputs": [],
   "source": []
  }
 ],
 "metadata": {
  "kernelspec": {
   "display_name": "Python 2",
   "language": "python",
   "name": "python2"
  },
  "language_info": {
   "codemirror_mode": {
    "name": "ipython",
    "version": 2
   },
   "file_extension": ".py",
   "mimetype": "text/x-python",
   "name": "python",
   "nbconvert_exporter": "python",
   "pygments_lexer": "ipython2",
   "version": "2.7.11"
  }
 },
 "nbformat": 4,
 "nbformat_minor": 0
}
